{
  "nbformat": 4,
  "nbformat_minor": 0,
  "metadata": {
    "colab": {
      "provenance": [],
      "authorship_tag": "ABX9TyMlcZSZyuunbyer75sxxJqX",
      "include_colab_link": true
    },
    "kernelspec": {
      "name": "python3",
      "display_name": "Python 3"
    },
    "language_info": {
      "name": "python"
    }
  },
  "cells": [
    {
      "cell_type": "markdown",
      "metadata": {
        "id": "view-in-github",
        "colab_type": "text"
      },
      "source": [
        "<a href=\"https://colab.research.google.com/github/whitestones011/deep_learning/blob/master/rl_qym_baselines3.ipynb\" target=\"_parent\"><img src=\"https://colab.research.google.com/assets/colab-badge.svg\" alt=\"Open In Colab\"/></a>"
      ]
    },
    {
      "cell_type": "markdown",
      "source": [
        "# Reinforcement learning with Gym and Baselines3 Zoo"
      ],
      "metadata": {
        "id": "4c9kmBGCrzN3"
      }
    },
    {
      "cell_type": "markdown",
      "source": [
        "**Cart pole**\n",
        "\n",
        "A pole is attached by an un-actuated joint to a cart, which moves along a frictionless track. The pendulum is placed upright on the cart and the goal is to balance the pole by applying forces in the left and right direction on the cart."
      ],
      "metadata": {
        "id": "0MXngrn3wd5B"
      }
    },
    {
      "cell_type": "code",
      "source": [
        "%%capture\n",
        "# install dependencies needed for recording videos\n",
        "!apt-get install -y xvfb x11-utils\n",
        "!pip install pyvirtualdisplay==0.2.*\n",
        "# install gym and baselines3\n",
        "!pip install gym\n",
        "!pip install rl_zoo3"
      ],
      "metadata": {
        "id": "Pd2l_meIU0vu"
      },
      "execution_count": 1,
      "outputs": []
    },
    {
      "cell_type": "code",
      "execution_count": 3,
      "metadata": {
        "id": "kr32yAMkL0gV"
      },
      "outputs": [],
      "source": [
        "import os\n",
        "import gym\n",
        "from stable_baselines3 import PPO\n",
        "from stable_baselines3.common.vec_env import DummyVecEnv\n",
        "from stable_baselines3.common.evaluation import evaluate_policy"
      ]
    },
    {
      "cell_type": "code",
      "source": [
        "# Virtual display\n",
        "import glob\n",
        "import io\n",
        "from base64 import b64encode\n",
        "from IPython.display import HTML\n",
        "from pyvirtualdisplay import Display\n",
        "from IPython import display as ipythondisplay\n",
        "from gym.wrappers.monitoring.video_recorder import VideoRecorder"
      ],
      "metadata": {
        "id": "VNGgloFaNp0R"
      },
      "execution_count": 4,
      "outputs": []
    },
    {
      "cell_type": "code",
      "source": [
        "display = Display(visible=0, size=(1400, 900))\n",
        "_ = display.start()"
      ],
      "metadata": {
        "id": "HcQckW8mauaz"
      },
      "execution_count": 7,
      "outputs": []
    },
    {
      "cell_type": "code",
      "source": [
        "def show_video(videopath=None):\n",
        "  if not videopath:\n",
        "    mp4list = glob.glob('video/*.mp4')\n",
        "    if len(mp4list) > 0:\n",
        "        videopath = mp4list[0]\n",
        "    else:\n",
        "      print(\"Could not find video\")\n",
        "\n",
        "  video = io.open(videopath, 'rb').read()\n",
        "\n",
        "  base64_encoded_mp4 = b64encode(video).decode('ascii')\n",
        "  ipythondisplay.display(\n",
        "      HTML(\n",
        "          data='''\n",
        "          <video alt=\"test\" autoplay controls style=\"width: 400px; height: 200px;\" id=\"theVideo\">\n",
        "            <source src=\"data:video/mp4;base64,{0}\" type=\"video/mp4\" />\n",
        "          </video>\n",
        "          <script>\n",
        "          video = document.getElementById(\"theVideo\")\n",
        "          video.playbackRate = 0.25;\n",
        "          </script>\n",
        "          '''.format(base64_encoded_mp4)\n",
        "          )\n",
        "    )"
      ],
      "metadata": {
        "id": "X86etg1qbfI-"
      },
      "execution_count": 72,
      "outputs": []
    },
    {
      "cell_type": "code",
      "source": [
        "# !mkdir video"
      ],
      "metadata": {
        "id": "2ZH2kC_ZdYEH"
      },
      "execution_count": 15,
      "outputs": []
    },
    {
      "cell_type": "code",
      "source": [
        "env = gym.make('CartPole-v1',render_mode=\"rgb_array\")"
      ],
      "metadata": {
        "id": "ODcC8YLhRArW"
      },
      "execution_count": 8,
      "outputs": []
    },
    {
      "cell_type": "code",
      "source": [
        "video_path = 'video/carpole.mp4'\n",
        "video = VideoRecorder(env, video_path)\n",
        "\n",
        "# returns an initial observation\n",
        "env.reset()\n",
        "\n",
        "trials = 10\n",
        "\n",
        "for trial in range(trials):\n",
        "\n",
        "  env.render()\n",
        "  video.capture_frame()\n",
        "\n",
        "  observation, info = env.reset()\n",
        "  score, terminated = 0, False\n",
        "\n",
        "  while not terminated:\n",
        "      action = env.action_space.sample()  # agent policy that uses the observation and info\n",
        "      observation, reward, terminated, truncated, info = env.step(action)\n",
        "      score = score + reward\n",
        "      env.render()\n",
        "\n",
        "      if terminated or truncated:\n",
        "          observation, info = env.reset()\n",
        "\n",
        "  print('Trial', trial, score)\n",
        "\n",
        "video.close()\n",
        "env.close()"
      ],
      "metadata": {
        "colab": {
          "base_uri": "https://localhost:8080/"
        },
        "id": "_7ugUhmlPU1M",
        "outputId": "f6ab3b94-0c80-412a-d33a-9997c386a21e"
      },
      "execution_count": 79,
      "outputs": [
        {
          "output_type": "stream",
          "name": "stdout",
          "text": [
            "Trial 0 38.0\n",
            "Trial 1 14.0\n",
            "Trial 2 34.0\n",
            "Trial 3 10.0\n",
            "Trial 4 14.0\n",
            "Trial 5 21.0\n",
            "Trial 6 13.0\n",
            "Trial 7 31.0\n",
            "Trial 8 13.0\n",
            "Trial 9 24.0\n",
            "Moviepy - Building video video/carpole.mp4.\n",
            "Moviepy - Writing video video/carpole.mp4\n",
            "\n"
          ]
        },
        {
          "output_type": "stream",
          "name": "stderr",
          "text": [
            "                                                   "
          ]
        },
        {
          "output_type": "stream",
          "name": "stdout",
          "text": [
            "Moviepy - Done !\n",
            "Moviepy - video ready video/carpole.mp4\n"
          ]
        },
        {
          "output_type": "stream",
          "name": "stderr",
          "text": [
            "\r"
          ]
        }
      ]
    },
    {
      "cell_type": "code",
      "source": [
        "show_video()"
      ],
      "metadata": {
        "colab": {
          "base_uri": "https://localhost:8080/",
          "height": 239
        },
        "id": "t-OQAqu-dtTI",
        "outputId": "397834dc-8a46-4b97-f38c-6a6690c01f13"
      },
      "execution_count": 73,
      "outputs": [
        {
          "output_type": "stream",
          "name": "stdout",
          "text": [
            "video/text.mp4\n"
          ]
        },
        {
          "output_type": "display_data",
          "data": {
            "text/plain": [
              "<IPython.core.display.HTML object>"
            ],
            "text/html": [
              "\n",
              "          <video alt=\"test\" autoplay controls style=\"width: 400px; height: 200px;\" id=\"theVideo\">\n",
              "            <source src=\"data:video/mp4;base64,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\" type=\"video/mp4\" />\n",
              "          </video>\n",
              "          <script>\n",
              "          video = document.getElementById(\"theVideo\")\n",
              "          video.playbackRate = 0.25;\n",
              "          </script>\n",
              "          "
            ]
          },
          "metadata": {}
        }
      ]
    },
    {
      "cell_type": "markdown",
      "source": [],
      "metadata": {
        "id": "NL744sBaryKt"
      }
    }
  ]
}