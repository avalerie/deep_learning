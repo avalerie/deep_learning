{
 "cells": [
  {
   "cell_type": "markdown",
   "id": "39e3bb80-9d9c-499b-8322-241201548051",
   "metadata": {},
   "source": [
    "## RNN with Attention Model"
   ]
  },
  {
   "cell_type": "code",
   "execution_count": null,
   "id": "d1b5af4f-f360-4277-9c70-aaef31568981",
   "metadata": {},
   "outputs": [],
   "source": [
    "import torch\n",
    "import torch.nn as nn"
   ]
  },
  {
   "cell_type": "code",
   "execution_count": 2,
   "id": "ba1504d0-d804-44fa-b17d-dc3e57b7cdc7",
   "metadata": {},
   "outputs": [],
   "source": [
    "sample_text = [\n",
    "    \"the animal didn't cross the street because it was too tired\",\n",
    "    \"the cat sat on the mat\",\n",
    "]"
   ]
  },
  {
   "cell_type": "code",
   "execution_count": 7,
   "id": "73f23736-2adb-4ca5-9054-e6ef06ae691a",
   "metadata": {},
   "outputs": [],
   "source": [
    "# vocabulary and word index\n",
    "vocab = set(' '.join(sample_text).split())\n",
    "word_to_idx = {word:idx for idx, word in enumerate(vocab)}\n",
    "ix_to_word = {idx:word for idx, word in enumerate(vocab)}"
   ]
  },
  {
   "cell_type": "code",
   "execution_count": 15,
   "id": "1e83fc39-edff-411c-8a72-cc422042ba13",
   "metadata": {},
   "outputs": [],
   "source": [
    "# encoder/decoder data\n",
    "pairs = [sentence.split() for sentence in sample_text]\n",
    "input_data = [[word_to_idx[word] for word in sentence[:-1]] for sentence in pairs]\n",
    "target_data = [word_to_idx[sentence[-1]] for sentence in pairs]\n",
    "\n",
    "inputs = [torch.tensor(seq, dtype=torch.long) for seq in input_data]\n",
    "targets = torch.tensor(target_data, dtype=torch.long)"
   ]
  },
  {
   "cell_type": "code",
   "execution_count": 33,
   "id": "7ab8e298-6ced-46e9-af0b-75ecba0695ce",
   "metadata": {},
   "outputs": [],
   "source": [
    "embedding_dim = 10\n",
    "hidden_dim = 16\n",
    "vocab_size = len(vocab)\n",
    "\n",
    "class RNNWithAttentionModel(nn.Module):\n",
    "    def __init__(self, vocab_size, embedding_dim, hidden_dim):\n",
    "        super().__init__()\n",
    "        \n",
    "        # Embedding layer translates word indexes to vectors\n",
    "        self.embeddings = nn.Embedding(vocab_size, embedding_dim)\n",
    "        \n",
    "        # RNN layer for sequentail processing\n",
    "        self.rnn = nn.RNN(embedding_dim, hidden_dim, batch_first=True)\n",
    "\n",
    "        # Attention layer computes word significanes, performing linear transformation of hidden_dim to one,\n",
    "        # yielding a singular attention score per word\n",
    "        self.attention = nn.Linear(hidden_dim, 1)\n",
    "\n",
    "        # Final layer outputting vocab_size pinpoints the predicted word index\n",
    "        self.fc = nn.Linear(hidden_dim, vocab_size)\n",
    "\n",
    "    def forward(self, x):\n",
    "        \n",
    "        # word indexes are embedded\n",
    "        x = self.embeddings(x)\n",
    "\n",
    "        # process embeddings in sequentail layer generating output for each word\n",
    "        out, _ = self.rnn(x)\n",
    "\n",
    "        # attention scores are derived by applying a linear transformation to the RNN outputs, \n",
    "        # normalizing using softmax, and reshaping the tensor using squeeze two to simplify attention calculations.\n",
    "        att_weights = torch.nn.functional.softmax(self.attention(out).squeeze(2), dim=1)\n",
    "\n",
    "        # Context vector is formulated by multiplying attention scores with RNN outputs, \n",
    "        # creating a weighted sum of the outputs, where weights are the attention scores. \n",
    "        # The unsqueeze two operation is important for adjusting tensor dimensions for matrix multiplication with RNN outputs. \n",
    "        # The context vector is then summed using torch-dot-sum to feed into the fc layer for the final prediction.\n",
    "        context = torch.sum(att_weights.unsqueeze(2) * out, dim=1)\n",
    "        \n",
    "        return self.fc(context)\n",
    "\n",
    "def pad_sequences(batch):\n",
    "    \"\"\"\n",
    "    Ensures consistent sequence lengths by padding the input sequences \n",
    "    with torch-dot-cat and torch-dot-stack, avoiding any potential length discrepancies\n",
    "    \"\"\"\n",
    "    max_len = max([len(i) for i in batch])\n",
    "    return torch.stack(\n",
    "        [torch.cat([seq, torch.zeros(max_len - len(seq)).long()])\n",
    "             for seq in batch]\n",
    "    )"
   ]
  },
  {
   "cell_type": "code",
   "execution_count": 34,
   "id": "6c62e071-abc0-4600-8188-ff1c3bbecc22",
   "metadata": {},
   "outputs": [],
   "source": [
    "loss_finction = nn.CrossEntropyLoss()\n",
    "model = RNNWithAttentionModel(vocab_size, embedding_dim, hidden_dim)\n",
    "optimizer = torch.optim.Adam(model.parameters(), lr=0.01)"
   ]
  },
  {
   "cell_type": "code",
   "execution_count": 37,
   "id": "db48fbf4-b771-4569-ba85-2dba4fd4233f",
   "metadata": {},
   "outputs": [
    {
     "name": "stdout",
     "output_type": "stream",
     "text": [
      "epoch 0, loss: 0.0005866951541975141\n",
      "epoch 100, loss: 0.0004257845284882933\n",
      "epoch 200, loss: 0.00032556717633269727\n"
     ]
    }
   ],
   "source": [
    "# training\n",
    "for epoch in range(300):\n",
    "    model.train()\n",
    "    optimizer.zero_grad()\n",
    "    padded_inputs = pad_sequences(inputs)\n",
    "    output = model(padded_inputs)\n",
    "    loss = loss_finction(output, targets)\n",
    "    loss.backward()\n",
    "    optimizer.step()\n",
    "\n",
    "    if (epoch % 100) == 0:\n",
    "        print(f'epoch {epoch}, loss: {loss.item()}')"
   ]
  },
  {
   "cell_type": "code",
   "execution_count": 40,
   "id": "617b0be9-e43c-437d-883e-c61b58ea121a",
   "metadata": {},
   "outputs": [
    {
     "name": "stdout",
     "output_type": "stream",
     "text": [
      "\n",
      "Input: the animal didn't cross the street because it was too\n",
      "\n",
      "Target: tired\n",
      "\n",
      "Output: tired\n",
      "\n",
      "Input: the cat sat on the\n",
      "\n",
      "Target: mat\n",
      "\n",
      "Output: mat\n"
     ]
    }
   ],
   "source": [
    "# testing\n",
    "for seq, target in zip(input_data, target_data):\n",
    "    input_test = torch.tensor(seq, dtype=torch.long).unsqueeze(0)\n",
    "    model.eval()\n",
    "    output = model(input_test)\n",
    "    predictions = ix_to_word[torch.argmax(output).item()]\n",
    "    print(f'\\nInput: {\" \".join([ix_to_word[i] for i in seq])}')\n",
    "    print(f'\\nTarget: {ix_to_word[target]}')\n",
    "    print(f'\\nOutput: {predictions}')"
   ]
  }
 ],
 "metadata": {
  "kernelspec": {
   "display_name": "Python 3 (ipykernel)",
   "language": "python",
   "name": "python3"
  },
  "language_info": {
   "codemirror_mode": {
    "name": "ipython",
    "version": 3
   },
   "file_extension": ".py",
   "mimetype": "text/x-python",
   "name": "python",
   "nbconvert_exporter": "python",
   "pygments_lexer": "ipython3",
   "version": "3.10.11"
  }
 },
 "nbformat": 4,
 "nbformat_minor": 5
}
