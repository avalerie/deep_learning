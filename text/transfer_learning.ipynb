{
 "cells": [
  {
   "cell_type": "markdown",
   "id": "0e48138d-ff97-42d8-8788-22a3fbc673bd",
   "metadata": {},
   "source": [
    "# Transfer learning with BERT\n",
    "\n",
    "<img src=\"./img/transfer_learning.png\" alt=\"transfer_learning\" style=\"width: 600px;\"/>\n",
    "\n",
    "Transfer learning, used in machine learning, is the reuse of a pre-trained model on a new problem. In transfer learning, a machine exploits the knowledge gained from a previous task to improve generalization about another.\n",
    "\n",
    "\n",
    "**BERT**(Bidirectional Encoder Representations from Transformers) is trained for language modeling. \n",
    "\n",
    "It contains multiple layers of transformers and is pre-trained on large texts. We will tune it to work with sentiment analysis. "
   ]
  },
  {
   "cell_type": "code",
   "execution_count": 48,
   "id": "d5d37c2c-2d17-4e0b-8671-c83fde8a8d4e",
   "metadata": {},
   "outputs": [],
   "source": [
    "sample_texts = [\n",
    "    'I love this!',\n",
    "    'This is terrible.',\n",
    "    'Amazing experience!',\n",
    "    'Not my cup of tea.'\n",
    "]\n",
    "\n",
    "labels = [1, 0, 1, 0]"
   ]
  },
  {
   "cell_type": "code",
   "execution_count": 2,
   "id": "0fa834d9-1a98-412f-888e-0eaf06864875",
   "metadata": {},
   "outputs": [],
   "source": [
    "import torch\n",
    "from transformers import BertTokenizer, BertForSequenceClassification"
   ]
  },
  {
   "cell_type": "code",
   "execution_count": null,
   "id": "d4d8334f-89d9-481e-bdeb-ff422d5b726c",
   "metadata": {},
   "outputs": [],
   "source": [
    "tokenizer = BertTokenizer.from_pretrained('bert-base-uncased')\n",
    "model = BertForSequenceClassification.from_pretrained('bert-base-uncased', num_labels=2)"
   ]
  },
  {
   "cell_type": "code",
   "execution_count": 49,
   "id": "19750dde-10cb-4e88-9b31-01dc6d4499b8",
   "metadata": {},
   "outputs": [],
   "source": [
    "inputs = tokenizer(sample_texts, padding=True, truncation=True, return_tensors='pt', max_length=32)"
   ]
  },
  {
   "cell_type": "code",
   "execution_count": 50,
   "id": "999a0c7f-9655-461e-b984-33e72647e282",
   "metadata": {},
   "outputs": [],
   "source": [
    "inputs['labels'] = torch.tensor(labels)"
   ]
  },
  {
   "cell_type": "code",
   "execution_count": 51,
   "id": "ea41bb57-35bf-4ea7-8d22-df617b6b59d7",
   "metadata": {},
   "outputs": [],
   "source": [
    "optimizer = torch.optim.AdamW(model.parameters(), lr=0.00001)"
   ]
  },
  {
   "cell_type": "code",
   "execution_count": 52,
   "id": "d760f0e0-1ad4-485d-b352-4b7ad71a0c2f",
   "metadata": {},
   "outputs": [],
   "source": [
    "_ = model.train()"
   ]
  },
  {
   "cell_type": "code",
   "execution_count": 57,
   "id": "b3e90135-ad7e-4a4c-ab8d-359ff385d846",
   "metadata": {},
   "outputs": [
    {
     "name": "stdout",
     "output_type": "stream",
     "text": [
      "Epoch: 1, Loss: 0.44676530361175537\n",
      "Epoch: 2, Loss: 0.4095667004585266\n"
     ]
    }
   ],
   "source": [
    "# training\n",
    "for epoch in range(2):\n",
    "    outputs = model(**inputs)\n",
    "    loss = outputs.loss\n",
    "    loss.backward()\n",
    "    optimizer.step()\n",
    "    optimizer.zero_grad()\n",
    "    print(f\"Epoch: {epoch+1}, Loss: {loss.item()}\")"
   ]
  },
  {
   "cell_type": "code",
   "execution_count": 60,
   "id": "aaad79bc-c214-43ba-b08c-53c7cafab1a8",
   "metadata": {},
   "outputs": [
    {
     "data": {
      "text/plain": [
       "1"
      ]
     },
     "execution_count": 60,
     "metadata": {},
     "output_type": "execute_result"
    }
   ],
   "source": [
    "# evaluating\n",
    "text = text = \"I had an nice day!\"\n",
    "input_eval = tokenizer(text, padding=True, truncation=True, return_tensors='pt', max_length=32)\n",
    "outputs_eval = model(**input_eval)\n",
    "predictions = torch.nn.functional.softmax(outputs_eval.logits, dim=-1)\n",
    "predicted_label = 1 if torch.argmax(predictions) > 0 else 0\n",
    "predicted_label"
   ]
  }
 ],
 "metadata": {
  "kernelspec": {
   "display_name": "Python 3 (ipykernel)",
   "language": "python",
   "name": "python3"
  },
  "language_info": {
   "codemirror_mode": {
    "name": "ipython",
    "version": 3
   },
   "file_extension": ".py",
   "mimetype": "text/x-python",
   "name": "python",
   "nbconvert_exporter": "python",
   "pygments_lexer": "ipython3",
   "version": "3.10.11"
  }
 },
 "nbformat": 4,
 "nbformat_minor": 5
}
