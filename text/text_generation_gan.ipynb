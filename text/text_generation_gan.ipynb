{
 "cells": [
  {
   "cell_type": "markdown",
   "id": "fe358b1b-acce-4150-86d9-48613903c7fb",
   "metadata": {},
   "source": [
    "# Text generation with GAN"
   ]
  },
  {
   "cell_type": "markdown",
   "id": "4dd7d00c-3af3-4538-853d-5b267c32f1ec",
   "metadata": {},
   "source": [
    "GAN can generate new content that seems original."
   ]
  },
  {
   "cell_type": "markdown",
   "id": "c6ca9c9c-4dd9-4e7d-8e96-b6293ca07873",
   "metadata": {},
   "source": [
    "<img src=\"./img/gan.png\" alt=\"gan.png\" style=\"width: 600px;\"/>\n",
    "\n",
    "A Generative Adversarial Network (GAN) consists of two primary components: \n",
    "\n",
    "* Generator, which creates synthetic text data from noise\n",
    "* Discriminator, which distinguishes between real and generated text data\n",
    "  \n",
    "Noise refers to random changes to real data, such as adding special characters to a word. \n",
    "\n",
    "These components collaborate, with the Generator improving its fakes and the Discriminator enhancing its ability to detect them until the generated text becomes indistinguishable from real text."
   ]
  },
  {
   "cell_type": "markdown",
   "id": "adb714bb-fe0a-4b42-92af-8bca55edeaaa",
   "metadata": {},
   "source": [
    "# GAN"
   ]
  },
  {
   "cell_type": "markdown",
   "id": "1f06dc3c-b5b5-4d71-b14e-255f19518f99",
   "metadata": {},
   "source": [
    "Create a model that generates credible reviews."
   ]
  },
  {
   "cell_type": "code",
   "execution_count": 1,
   "id": "738db0fe-127d-434b-b283-3e6e1cebf0e1",
   "metadata": {},
   "outputs": [],
   "source": [
    "import torch\n",
    "import torch.nn as nn"
   ]
  },
  {
   "cell_type": "code",
   "execution_count": null,
   "id": "b72bf3e4-a38d-4e14-9090-e634bf49b7df",
   "metadata": {},
   "outputs": [],
   "source": [
    "class TextGenerator(nn.Module):\n",
    "    def __init__(self):\n",
    "        super().__init__()\n",
    "        self.model = nn.Sequential(\n",
    "            nn.Linear(seq_length, seq_length),\n",
    "            nn.Sigmoid()\n",
    "        )"
   ]
  }
 ],
 "metadata": {
  "kernelspec": {
   "display_name": "Python 3 (ipykernel)",
   "language": "python",
   "name": "python3"
  },
  "language_info": {
   "codemirror_mode": {
    "name": "ipython",
    "version": 3
   },
   "file_extension": ".py",
   "mimetype": "text/x-python",
   "name": "python",
   "nbconvert_exporter": "python",
   "pygments_lexer": "ipython3",
   "version": "3.10.11"
  }
 },
 "nbformat": 4,
 "nbformat_minor": 5
}
