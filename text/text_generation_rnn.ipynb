{
 "cells": [
  {
   "cell_type": "markdown",
   "id": "c0091fab-3313-4207-98f5-57984b71a920",
   "metadata": {},
   "source": [
    "# Text generation with RNN\n",
    "\n",
    "<img src=\"./img/text_generation.png\" alt=\"text_generation.png\" style=\"width: 600px;\"/>"
   ]
  },
  {
   "cell_type": "code",
   "execution_count": 1,
   "id": "53b6b340-a9f1-49b5-9dfa-e2e723c0940d",
   "metadata": {},
   "outputs": [],
   "source": [
    "import torch\n",
    "import torch.nn as nn"
   ]
  },
  {
   "cell_type": "markdown",
   "id": "f1d3d89c-3e35-4c19-95cb-a88719c33f62",
   "metadata": {},
   "source": [
    "## RNN model to predict next character"
   ]
  },
  {
   "cell_type": "code",
   "execution_count": 3,
   "id": "edda35aa-48b7-4c2f-8368-dfdc387f6b3d",
   "metadata": {},
   "outputs": [],
   "source": [
    "data = \"The cat sat on the mat\"\n",
    "chars = list(set(data))"
   ]
  },
  {
   "cell_type": "code",
   "execution_count": 4,
   "id": "2aea99ed-48c3-4150-8bbb-f4d8594ea441",
   "metadata": {},
   "outputs": [
    {
     "data": {
      "text/plain": [
       "['n', 'e', 's', 'h', 'a', 'c', 'm', ' ', 't', 'o', 'T']"
      ]
     },
     "execution_count": 4,
     "metadata": {},
     "output_type": "execute_result"
    }
   ],
   "source": [
    "chars"
   ]
  },
  {
   "cell_type": "code",
   "execution_count": 5,
   "id": "052fe0ed-b053-484a-8a78-c9ecf2818734",
   "metadata": {},
   "outputs": [],
   "source": [
    "char_to_idx = {char:idx for idx, char in enumerate(chars)}\n",
    "idx_to_char = {idx:char for idx, char in enumerate(chars)}"
   ]
  },
  {
   "cell_type": "code",
   "execution_count": 14,
   "id": "21e2180d-cdc3-4cec-bff2-c8676344ea87",
   "metadata": {},
   "outputs": [],
   "source": [
    "inputs = [char_to_idx[ch] for ch in data[:-1]]\n",
    "targets = [char_to_idx[ch] for ch in data[1:]]"
   ]
  },
  {
   "cell_type": "code",
   "execution_count": 10,
   "id": "21592bff-635d-4dbb-81c6-8f1f10fab187",
   "metadata": {},
   "outputs": [
    {
     "data": {
      "text/plain": [
       "[10, 3, 1, 7, 5, 4, 8, 7, 2, 4, 8, 7, 9, 0, 7, 8, 3, 1, 7, 6, 4]"
      ]
     },
     "execution_count": 10,
     "metadata": {},
     "output_type": "execute_result"
    }
   ],
   "source": [
    "inputs"
   ]
  },
  {
   "cell_type": "code",
   "execution_count": 11,
   "id": "9075c334-d42c-41a1-be33-e7c5a662b0fd",
   "metadata": {},
   "outputs": [
    {
     "data": {
      "text/plain": [
       "[3, 1, 7, 5, 4, 8, 7, 2, 4, 8, 7, 9, 0, 7, 8, 3, 1, 7, 6, 4, 8]"
      ]
     },
     "execution_count": 11,
     "metadata": {},
     "output_type": "execute_result"
    }
   ],
   "source": [
    "targets"
   ]
  },
  {
   "cell_type": "markdown",
   "id": "03e0be52-88f9-480d-b4e1-845f8625b7ae",
   "metadata": {},
   "source": [
    "Reshape inputs to have an additional dimension and match the expected input shape for the model."
   ]
  },
  {
   "cell_type": "code",
   "execution_count": 15,
   "id": "219ec94b-7a95-497c-b38a-382a93103276",
   "metadata": {},
   "outputs": [
    {
     "data": {
      "text/plain": [
       "torch.Size([21, 1])"
      ]
     },
     "execution_count": 15,
     "metadata": {},
     "output_type": "execute_result"
    }
   ],
   "source": [
    "inputs = torch.tensor(inputs, dtype=torch.long).view(-1,1)\n",
    "inputs.shape"
   ]
  },
  {
   "cell_type": "markdown",
   "id": "c0743dbf-594e-4a16-a34b-9741f7a72c72",
   "metadata": {},
   "source": [
    "The inputs tensor is one-hot encoded, turning each index into a binary vector, where all elements are zero except for the one at the position of the index."
   ]
  },
  {
   "cell_type": "code",
   "execution_count": 16,
   "id": "2b84dd10-9750-4217-be27-f4c9dddf079a",
   "metadata": {},
   "outputs": [
    {
     "data": {
      "text/plain": [
       "torch.Size([21, 1, 11])"
      ]
     },
     "execution_count": 16,
     "metadata": {},
     "output_type": "execute_result"
    }
   ],
   "source": [
    "inputs = nn.functional.one_hot(inputs, num_classes=len(chars)).float()\n",
    "inputs.shape"
   ]
  },
  {
   "cell_type": "markdown",
   "id": "e497adc2-51b7-49d9-82ef-830a96657c73",
   "metadata": {},
   "source": [
    "The targets tensor remains as character indices to align with CrossEntropyLoss, which requires class indices as targets."
   ]
  },
  {
   "cell_type": "code",
   "execution_count": 17,
   "id": "501eb205-1511-49f1-9ac2-1e66a5b0133c",
   "metadata": {},
   "outputs": [
    {
     "data": {
      "text/plain": [
       "torch.Size([21])"
      ]
     },
     "execution_count": 17,
     "metadata": {},
     "output_type": "execute_result"
    }
   ],
   "source": [
    "targets = torch.tensor(targets, dtype=torch.long)\n",
    "targets.shape"
   ]
  },
  {
   "cell_type": "code",
   "execution_count": 29,
   "id": "2b93a373-a3f8-48a6-95aa-776ab5f91fe8",
   "metadata": {},
   "outputs": [],
   "source": [
    "class RNNModel(nn.Module):\n",
    "    def __init__(self, input_size, hidden_size, num_classes, num_layers=1):\n",
    "        super().__init__()\n",
    "        self.hidden_size = hidden_size\n",
    "        self.num_layers = num_layers\n",
    "        self.rnn = nn.RNN(input_size, hidden_size, num_layers, batch_first=True)\n",
    "        self.fc = nn.Linear(hidden_size, num_classes)        \n",
    "        \n",
    "    def forward(self, x):\n",
    "        h0 = torch.zeros(self.num_layers, x.size(0), self.hidden_size)\n",
    "        out, _ = self.rnn(x, h0)\n",
    "        out = out[:, -1, :] \n",
    "        out = self.fc(out)\n",
    "        return out\n",
    "        \n",
    "# Initialize the model\n",
    "rnn_model = RNNModel(len(chars), 16, len(chars))\n",
    "criterion = nn.CrossEntropyLoss()\n",
    "optimizer = torch.optim.Adam(rnn_model.parameters(), lr=0.01)"
   ]
  },
  {
   "cell_type": "code",
   "execution_count": 40,
   "id": "83651dd2-ed6d-4a43-a648-19870a08533f",
   "metadata": {},
   "outputs": [
    {
     "name": "stdout",
     "output_type": "stream",
     "text": [
      "Epoch: 1, Loss: 0.4756394922733307\n",
      "Epoch: 11, Loss: 0.4755782186985016\n",
      "Epoch: 21, Loss: 0.4755208194255829\n",
      "Epoch: 31, Loss: 0.47546687722206116\n",
      "Epoch: 41, Loss: 0.4754161834716797\n",
      "Epoch: 51, Loss: 0.47536832094192505\n",
      "Epoch: 61, Loss: 0.475323349237442\n",
      "Epoch: 71, Loss: 0.4752808213233948\n",
      "Epoch: 81, Loss: 0.4752406179904938\n",
      "Epoch: 91, Loss: 0.47520264983177185\n"
     ]
    }
   ],
   "source": [
    "# Train the model for ten epochs and zero the gradients\n",
    "for epoch in range(100):\n",
    "    # switch model to training mode\n",
    "    rnn_model.train()\n",
    "    # fit inputs to the model\n",
    "    outputs = rnn_model(inputs)\n",
    "    # calculate loss\n",
    "    loss = criterion(outputs, targets)\n",
    "    # clear gradients\n",
    "    optimizer.zero_grad()\n",
    "    # backpropagation\n",
    "    loss.backward()\n",
    "    # weight update\n",
    "    optimizer.step()\n",
    "\n",
    "    if (epoch % 10) == 0:\n",
    "        print(f'Epoch: {epoch+1}, Loss: {loss.item()}')"
   ]
  },
  {
   "cell_type": "code",
   "execution_count": 41,
   "id": "0d0dd367-83c7-4f04-a7c5-15d2e017492c",
   "metadata": {},
   "outputs": [],
   "source": [
    "# Testing model\n",
    "rnn_model.eval()\n",
    "test_input = char_to_idx['a']\n",
    "test_input = nn.functional.one_hot(torch.tensor(test_input).view(-1,1), num_classes=len(chars)).float()"
   ]
  },
  {
   "cell_type": "code",
   "execution_count": 45,
   "id": "bac3c4ef-1699-4ea2-a2ea-a4dfbf518531",
   "metadata": {},
   "outputs": [
    {
     "name": "stdout",
     "output_type": "stream",
     "text": [
      "Predicted next character:  t\n"
     ]
    }
   ],
   "source": [
    "predicted_output = rnn_model(test_input)\n",
    "predicted_char_idx = torch.argmax(predicted_output, 1).item()\n",
    "print('Predicted next character: ', idx_to_char[predicted_char_idx])"
   ]
  }
 ],
 "metadata": {
  "kernelspec": {
   "display_name": "Python 3 (ipykernel)",
   "language": "python",
   "name": "python3"
  },
  "language_info": {
   "codemirror_mode": {
    "name": "ipython",
    "version": 3
   },
   "file_extension": ".py",
   "mimetype": "text/x-python",
   "name": "python",
   "nbconvert_exporter": "python",
   "pygments_lexer": "ipython3",
   "version": "3.10.11"
  }
 },
 "nbformat": 4,
 "nbformat_minor": 5
}
