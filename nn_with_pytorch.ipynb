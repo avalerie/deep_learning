{
  "nbformat": 4,
  "nbformat_minor": 0,
  "metadata": {
    "colab": {
      "provenance": [],
      "toc_visible": true,
      "authorship_tag": "ABX9TyMoCobdsTThlx2iSSGoI1jl",
      "include_colab_link": true
    },
    "kernelspec": {
      "name": "python3",
      "display_name": "Python 3"
    },
    "language_info": {
      "name": "python"
    }
  },
  "cells": [
    {
      "cell_type": "markdown",
      "metadata": {
        "id": "view-in-github",
        "colab_type": "text"
      },
      "source": [
        "<a href=\"https://colab.research.google.com/github/whitestones011/deep_learning/blob/master/nn_with_pytorch.ipynb\" target=\"_parent\"><img src=\"https://colab.research.google.com/assets/colab-badge.svg\" alt=\"Open In Colab\"/></a>"
      ]
    },
    {
      "cell_type": "markdown",
      "source": [
        "# Single layer neural network"
      ],
      "metadata": {
        "id": "Jq0mMJj-LX-Y"
      }
    },
    {
      "cell_type": "markdown",
      "source": [
        "$$ y = f(w_1 x_1 + w_2 x_2 + b) $$"
      ],
      "metadata": {
        "id": "HxklmViLMekA"
      }
    },
    {
      "cell_type": "markdown",
      "source": [
        "$$ y = f\\left(\\sum_i w_i x_i + b\\right) $$"
      ],
      "metadata": {
        "id": "4o0IvJhrMmCN"
      }
    },
    {
      "cell_type": "code",
      "execution_count": null,
      "metadata": {
        "id": "RE8Xc4vJnqc-"
      },
      "outputs": [],
      "source": [
        "# !pip install torch torchvision"
      ]
    },
    {
      "cell_type": "code",
      "source": [
        "import torch"
      ],
      "metadata": {
        "id": "JFYA8OwupG2M"
      },
      "execution_count": 1,
      "outputs": []
    },
    {
      "cell_type": "code",
      "source": [
        "print(torch.__version__)"
      ],
      "metadata": {
        "colab": {
          "base_uri": "https://localhost:8080/"
        },
        "id": "O2VXZRbeptXF",
        "outputId": "dceac5a9-d7e7-454c-f92b-4598635a40b4"
      },
      "execution_count": 2,
      "outputs": [
        {
          "output_type": "stream",
          "name": "stdout",
          "text": [
            "2.0.1+cu118\n"
          ]
        }
      ]
    },
    {
      "cell_type": "code",
      "source": [
        "def sigmoid_activation(x):\n",
        "  return 1 / (1 + torch.exp(-x))"
      ],
      "metadata": {
        "id": "xuWLhHoNqkOX"
      },
      "execution_count": 3,
      "outputs": []
    },
    {
      "cell_type": "markdown",
      "source": [
        "Generate data"
      ],
      "metadata": {
        "id": "aXO1wb1RKp80"
      }
    },
    {
      "cell_type": "code",
      "source": [
        "torch.manual_seed(42)"
      ],
      "metadata": {
        "colab": {
          "base_uri": "https://localhost:8080/"
        },
        "id": "pbRYa0u1HwWx",
        "outputId": "ed938e5c-45c2-4999-8ec9-50e674aaad89"
      },
      "execution_count": null,
      "outputs": [
        {
          "output_type": "execute_result",
          "data": {
            "text/plain": [
              "<torch._C.Generator at 0x7f499b4b1890>"
            ]
          },
          "metadata": {},
          "execution_count": 6
        }
      ]
    },
    {
      "cell_type": "code",
      "source": [
        "feat = torch.rand(1,5)"
      ],
      "metadata": {
        "id": "r_Zgz0BLICXL"
      },
      "execution_count": null,
      "outputs": []
    },
    {
      "cell_type": "code",
      "source": [
        "weights = torch.rand_like(feat)"
      ],
      "metadata": {
        "id": "0HmZnlujIWcZ"
      },
      "execution_count": null,
      "outputs": []
    },
    {
      "cell_type": "code",
      "source": [
        "bais = torch.randn(1,1)"
      ],
      "metadata": {
        "id": "QkNFgE7wInkC"
      },
      "execution_count": null,
      "outputs": []
    },
    {
      "cell_type": "markdown",
      "source": [
        "Perceptron"
      ],
      "metadata": {
        "id": "9o5VV5n0Nq-V"
      }
    },
    {
      "cell_type": "code",
      "source": [
        "sigmoid_activation(torch.sum(feat*weights) + bais)"
      ],
      "metadata": {
        "colab": {
          "base_uri": "https://localhost:8080/"
        },
        "id": "BZKxhUgwNwCU",
        "outputId": "1e47eba2-3fcf-471a-8e58-be4881130c7c"
      },
      "execution_count": null,
      "outputs": [
        {
          "output_type": "execute_result",
          "data": {
            "text/plain": [
              "tensor([[0.9157]])"
            ]
          },
          "metadata": {},
          "execution_count": 42
        }
      ]
    },
    {
      "cell_type": "markdown",
      "source": [
        "Reshaping weights matrix"
      ],
      "metadata": {
        "id": "XnRhIf3aRb83"
      }
    },
    {
      "cell_type": "code",
      "source": [
        "sigmoid_activation(torch.mm(feat, weights.view(5,1)) + bais)"
      ],
      "metadata": {
        "colab": {
          "base_uri": "https://localhost:8080/"
        },
        "id": "vaFdtuuKRU5L",
        "outputId": "de5c2023-e0fc-4a8d-f053-69f0b690ad3a"
      },
      "execution_count": null,
      "outputs": [
        {
          "output_type": "execute_result",
          "data": {
            "text/plain": [
              "tensor([[0.9157]])"
            ]
          },
          "metadata": {},
          "execution_count": 43
        }
      ]
    },
    {
      "cell_type": "markdown",
      "source": [
        "# Multiple layer neural network"
      ],
      "metadata": {
        "id": "9uI4ZOdATJs_"
      }
    },
    {
      "cell_type": "code",
      "source": [
        "# Define shape of NN\n",
        "n_input = feat.shape[1]\n",
        "n_hidden = 2\n",
        "n_output = 1"
      ],
      "metadata": {
        "id": "TVoxQ6AlRZ0W"
      },
      "execution_count": null,
      "outputs": []
    },
    {
      "cell_type": "code",
      "source": [
        "# Weight from input to hidden layer - random numbers from a normal distribution\n",
        "w1 = torch.randn(n_input, n_hidden)\n",
        "w1"
      ],
      "metadata": {
        "colab": {
          "base_uri": "https://localhost:8080/"
        },
        "id": "IckBrDYhTyf3",
        "outputId": "109049ca-591f-4cf8-afd4-d8cba2043ab4"
      },
      "execution_count": null,
      "outputs": [
        {
          "output_type": "execute_result",
          "data": {
            "text/plain": [
              "tensor([[-0.4220, -1.3323],\n",
              "        [-0.3639,  0.1513],\n",
              "        [-0.3514, -0.7906],\n",
              "        [-0.0915,  0.2352],\n",
              "        [ 2.2440,  0.5817]])"
            ]
          },
          "metadata": {},
          "execution_count": 47
        }
      ]
    },
    {
      "cell_type": "code",
      "source": [
        "# Weight from hidden to output layer - random numbers from a normal distribution\n",
        "w2 = torch.randn(n_hidden, n_output)\n",
        "w2"
      ],
      "metadata": {
        "colab": {
          "base_uri": "https://localhost:8080/"
        },
        "id": "jBewhPjcVIDY",
        "outputId": "d96f2e4a-122b-4b52-d914-7980faad8864"
      },
      "execution_count": null,
      "outputs": [
        {
          "output_type": "execute_result",
          "data": {
            "text/plain": [
              "tensor([[0.4528],\n",
              "        [0.6410]])"
            ]
          },
          "metadata": {},
          "execution_count": 48
        }
      ]
    },
    {
      "cell_type": "code",
      "source": [
        "# Bias for hidden and output layers\n",
        "b1 = torch.randn(1,n_hidden)\n",
        "b2 = torch.randn(1,n_output)"
      ],
      "metadata": {
        "id": "EtHgJonQVTIC"
      },
      "execution_count": null,
      "outputs": []
    },
    {
      "cell_type": "code",
      "source": [
        "# Calculate hidden layer\n",
        "h = sigmoid_activation(torch.mm(feat,w1) + b1)\n",
        "h"
      ],
      "metadata": {
        "colab": {
          "base_uri": "https://localhost:8080/"
        },
        "id": "YBZwMnOfVjyH",
        "outputId": "2b9ce5e0-3ae8-46ae-9646-bf2c972b6773"
      },
      "execution_count": null,
      "outputs": [
        {
          "output_type": "execute_result",
          "data": {
            "text/plain": [
              "tensor([[0.6150, 0.4182]])"
            ]
          },
          "metadata": {},
          "execution_count": 55
        }
      ]
    },
    {
      "cell_type": "code",
      "source": [
        "# Calculate output layer\n",
        "sigmoid_activation(torch.mm(h,w2) + b2)"
      ],
      "metadata": {
        "colab": {
          "base_uri": "https://localhost:8080/"
        },
        "id": "jbeyZxu3We_l",
        "outputId": "acc2bb03-ea2c-4b0d-eb58-13a600e902c0"
      },
      "execution_count": null,
      "outputs": [
        {
          "output_type": "execute_result",
          "data": {
            "text/plain": [
              "tensor([[0.6504]])"
            ]
          },
          "metadata": {},
          "execution_count": 105
        }
      ]
    },
    {
      "cell_type": "markdown",
      "source": [
        "# MNIST"
      ],
      "metadata": {
        "id": "flM0sbfRZ6nK"
      }
    },
    {
      "cell_type": "markdown",
      "source": [
        "MNIST dataset consists of 28x28 pixel images of greyscale handwritten digits."
      ],
      "metadata": {
        "id": "e0Yw_7y5aQ25"
      }
    },
    {
      "cell_type": "code",
      "source": [
        "import matplotlib.pyplot as plt"
      ],
      "metadata": {
        "id": "0Pe8LSrVfMy4"
      },
      "execution_count": 4,
      "outputs": []
    },
    {
      "cell_type": "code",
      "source": [
        "from torchvision import datasets, transforms"
      ],
      "metadata": {
        "id": "XnRs9WjVa4CV"
      },
      "execution_count": 5,
      "outputs": []
    },
    {
      "cell_type": "code",
      "source": [
        "# Define a transform to normalize the data\n",
        "transform = transforms.Compose([transforms.ToTensor(),\n",
        "                              transforms.Normalize((0.5,), (0.5,)),\n",
        "                              ])\n",
        "# Download and load the training data\n",
        "trainset = datasets.MNIST('/content/MNIST_data/', download=True, train=True, transform=transform)\n",
        "trainloader = torch.utils.data.DataLoader(trainset, batch_size=64, shuffle=True)"
      ],
      "metadata": {
        "id": "Bxq4GKV_aGGe"
      },
      "execution_count": null,
      "outputs": []
    },
    {
      "cell_type": "code",
      "source": [
        "# Get a batch of training data\n",
        "images, labels = next(iter(trainloader))"
      ],
      "metadata": {
        "id": "gwbGjMf8bbJ7"
      },
      "execution_count": 7,
      "outputs": []
    },
    {
      "cell_type": "code",
      "source": [
        "print(type(images))\n",
        "print(images.shape)\n",
        "print(labels.shape)"
      ],
      "metadata": {
        "colab": {
          "base_uri": "https://localhost:8080/"
        },
        "id": "ubaqPA-HbGGX",
        "outputId": "51d79dbe-2189-4662-c689-dda3e3276722"
      },
      "execution_count": 8,
      "outputs": [
        {
          "output_type": "stream",
          "name": "stdout",
          "text": [
            "<class 'torch.Tensor'>\n",
            "torch.Size([64, 1, 28, 28])\n",
            "torch.Size([64])\n"
          ]
        }
      ]
    },
    {
      "cell_type": "code",
      "source": [
        "plt.imshow(images[0].numpy().squeeze(), cmap='Greys_r');"
      ],
      "metadata": {
        "colab": {
          "base_uri": "https://localhost:8080/",
          "height": 430
        },
        "id": "i8-5sKJVezd-",
        "outputId": "d1f11d5f-33b7-4796-b86c-234a22e4c7be"
      },
      "execution_count": 126,
      "outputs": [
        {
          "output_type": "display_data",
          "data": {
            "text/plain": [
              "<Figure size 640x480 with 1 Axes>"
            ],
            "image/png": "[encoded data removed]"
          },
          "metadata": {}
        }
      ]
    },
    {
      "cell_type": "code",
      "source": [
        "images[0].shape"
      ],
      "metadata": {
        "id": "8nE8PW9kfINF",
        "colab": {
          "base_uri": "https://localhost:8080/"
        },
        "outputId": "3755a2ae-c75c-484b-e4f1-328f3fd74fed"
      },
      "execution_count": 11,
      "outputs": [
        {
          "output_type": "execute_result",
          "data": {
            "text/plain": [
              "torch.Size([1, 28, 28])"
            ]
          },
          "metadata": {},
          "execution_count": 11
        }
      ]
    },
    {
      "cell_type": "code",
      "source": [
        "# Flatten the images\n",
        "images_input = images.view(images.shape[0], -1)"
      ],
      "metadata": {
        "id": "pU5U49970NI3"
      },
      "execution_count": 18,
      "outputs": []
    },
    {
      "cell_type": "code",
      "source": [
        "images_input.shape"
      ],
      "metadata": {
        "colab": {
          "base_uri": "https://localhost:8080/"
        },
        "id": "iXohbClR0Jp7",
        "outputId": "deba96a6-adad-4762-d80b-91943101a04b"
      },
      "execution_count": 19,
      "outputs": [
        {
          "output_type": "execute_result",
          "data": {
            "text/plain": [
              "torch.Size([64, 784])"
            ]
          },
          "metadata": {},
          "execution_count": 19
        }
      ]
    },
    {
      "cell_type": "markdown",
      "source": [
        "To predict the probability of each digit, set the size of output layer as 10."
      ],
      "metadata": {
        "id": "qbPtyZCK1nhs"
      }
    },
    {
      "cell_type": "code",
      "source": [
        "# Define shape of NN\n",
        "n_input = images_input.shape[1]\n",
        "n_hidden = 256\n",
        "n_output = 10"
      ],
      "metadata": {
        "id": "Os50ggg01Q4B"
      },
      "execution_count": 20,
      "outputs": []
    },
    {
      "cell_type": "code",
      "source": [
        "w1 = torch.randn(n_input, n_hidden)\n",
        "w2 = torch.randn(n_hidden, n_output)\n",
        "\n",
        "b1 = torch.randn(1,n_hidden)\n",
        "b2 = torch.randn(1,n_output)"
      ],
      "metadata": {
        "id": "hi1MoQAt3OoN"
      },
      "execution_count": 22,
      "outputs": []
    },
    {
      "cell_type": "code",
      "source": [
        "hidden_layer = sigmoid_activation(torch.mm(images_input, w1) + b1)\n",
        "\n",
        "output_layer = sigmoid_activation(torch.mm(hidden_layer, w2) + b2)"
      ],
      "metadata": {
        "id": "p17uDYja3dKs"
      },
      "execution_count": 24,
      "outputs": []
    },
    {
      "cell_type": "markdown",
      "source": [
        "To convert the output into probability distribution, use softmax function.\n",
        "\n",
        "$$ \\Large \\sigma(x_i) = \\cfrac{e^{x_i}}{\\sum_k^K{e^{x_k}}} $$"
      ],
      "metadata": {
        "id": "JGe_Fjz7-sX5"
      }
    },
    {
      "cell_type": "code",
      "source": [
        "def softmax(x):\n",
        "  \"\"\"\n",
        "  Args:\n",
        "    x (torch.Tensor): Pytorch tensor of shape (batch_size, n_output)\n",
        "  Returns:\n",
        "    The probability distribution.\n",
        "  \"\"\"\n",
        "  return torch.exp(x)/torch.sum(torch.exp(x), dim=1).view(-1, 1)"
      ],
      "metadata": {
        "id": "FQvb6Qiv_qXA"
      },
      "execution_count": 62,
      "outputs": []
    },
    {
      "cell_type": "code",
      "source": [
        "probas = softmax(output_layer)"
      ],
      "metadata": {
        "id": "LwOXabKwBcms"
      },
      "execution_count": 107,
      "outputs": []
    },
    {
      "cell_type": "code",
      "source": [
        "# Check probabilities sum up to 1\n",
        "torch.sum(probas, dim=1)"
      ],
      "metadata": {
        "colab": {
          "base_uri": "https://localhost:8080/"
        },
        "id": "tcJJrMkDDtmS",
        "outputId": "eb957014-c4f7-4fa8-ac25-d0284b5df445"
      },
      "execution_count": 108,
      "outputs": [
        {
          "output_type": "execute_result",
          "data": {
            "text/plain": [
              "tensor([1.0000, 1.0000, 1.0000, 1.0000, 1.0000, 1.0000, 1.0000, 1.0000, 1.0000,\n",
              "        1.0000, 1.0000, 1.0000, 1.0000, 1.0000, 1.0000, 1.0000, 1.0000, 1.0000,\n",
              "        1.0000, 1.0000, 1.0000, 1.0000, 1.0000, 1.0000, 1.0000, 1.0000, 1.0000,\n",
              "        1.0000, 1.0000, 1.0000, 1.0000, 1.0000, 1.0000, 1.0000, 1.0000, 1.0000,\n",
              "        1.0000, 1.0000, 1.0000, 1.0000, 1.0000, 1.0000, 1.0000, 1.0000, 1.0000,\n",
              "        1.0000, 1.0000, 1.0000, 1.0000, 1.0000, 1.0000, 1.0000, 1.0000, 1.0000,\n",
              "        1.0000, 1.0000, 1.0000, 1.0000, 1.0000, 1.0000, 1.0000, 1.0000, 1.0000,\n",
              "        1.0000])"
            ]
          },
          "metadata": {},
          "execution_count": 108
        }
      ]
    },
    {
      "cell_type": "markdown",
      "source": [
        "# Model"
      ],
      "metadata": {
        "id": "KrZcXuBQHLrK"
      }
    },
    {
      "cell_type": "code",
      "source": [
        "from torch import nn\n",
        "import torch.nn.functional as F"
      ],
      "metadata": {
        "id": "aCXdXsEdFHNX"
      },
      "execution_count": 119,
      "outputs": []
    },
    {
      "cell_type": "code",
      "source": [
        "class MNIST_Classifier(nn.Module):\n",
        "    def __init__(self, n_input, n_hidden, n_output):\n",
        "        super().__init__()\n",
        "\n",
        "        # Inputs to hidden layer linear transformation\n",
        "        self.hidden = nn.Linear(n_input, n_hidden)\n",
        "\n",
        "        # Output layer, 10 units - one for each digit\n",
        "        self.output = nn.Linear(n_hidden, n_output)\n",
        "\n",
        "    def forward(self, x):\n",
        "        # Hidden layer with sigmoid activation\n",
        "        x = F.sigmoid(self.hidden(x))\n",
        "\n",
        "        # Output layer with softmax activation\n",
        "        x = F.softmax(self.output(x), dim=1)\n",
        "\n",
        "        return x"
      ],
      "metadata": {
        "id": "PmBW44PSHbYY"
      },
      "execution_count": 120,
      "outputs": []
    },
    {
      "cell_type": "code",
      "source": [
        "model = MNIST_Classifier(n_input, n_hidden, n_output)"
      ],
      "metadata": {
        "id": "-oS0XLCYJCxY"
      },
      "execution_count": 121,
      "outputs": []
    },
    {
      "cell_type": "code",
      "source": [],
      "metadata": {
        "id": "2mbReoZxJyXC"
      },
      "execution_count": null,
      "outputs": []
    }
  ]
}