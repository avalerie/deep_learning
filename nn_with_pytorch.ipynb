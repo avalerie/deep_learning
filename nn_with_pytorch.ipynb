{
  "nbformat": 4,
  "nbformat_minor": 0,
  "metadata": {
    "colab": {
      "provenance": [],
      "authorship_tag": "ABX9TyNdID8w0dtTfwWP3YKYwwPL",
      "include_colab_link": true
    },
    "kernelspec": {
      "name": "python3",
      "display_name": "Python 3"
    },
    "language_info": {
      "name": "python"
    }
  },
  "cells": [
    {
      "cell_type": "markdown",
      "metadata": {
        "id": "view-in-github",
        "colab_type": "text"
      },
      "source": [
        "<a href=\"https://colab.research.google.com/github/whitestones011/deep_learning/blob/master/nn_with_pytorch.ipynb\" target=\"_parent\"><img src=\"https://colab.research.google.com/assets/colab-badge.svg\" alt=\"Open In Colab\"/></a>"
      ]
    },
    {
      "cell_type": "markdown",
      "source": [
        "# Single layer neural network"
      ],
      "metadata": {
        "id": "Jq0mMJj-LX-Y"
      }
    },
    {
      "cell_type": "markdown",
      "source": [
        "$$ y = f(w_1 x_1 + w_2 x_2 + b) $$"
      ],
      "metadata": {
        "id": "HxklmViLMekA"
      }
    },
    {
      "cell_type": "markdown",
      "source": [
        "$$ y = f\\left(\\sum_i w_i x_i + b\\right) $$"
      ],
      "metadata": {
        "id": "4o0IvJhrMmCN"
      }
    },
    {
      "cell_type": "markdown",
      "source": [
        "The Perceptron is a linear binary classification algorithm."
      ],
      "metadata": {
        "id": "ZFmvAr1OO25X"
      }
    },
    {
      "cell_type": "code",
      "execution_count": 4,
      "metadata": {
        "id": "RE8Xc4vJnqc-"
      },
      "outputs": [],
      "source": [
        "# !pip install torch torchvision"
      ]
    },
    {
      "cell_type": "code",
      "source": [
        "import torch"
      ],
      "metadata": {
        "id": "JFYA8OwupG2M"
      },
      "execution_count": 5,
      "outputs": []
    },
    {
      "cell_type": "code",
      "source": [
        "print(torch.__version__)"
      ],
      "metadata": {
        "colab": {
          "base_uri": "https://localhost:8080/"
        },
        "id": "O2VXZRbeptXF",
        "outputId": "e8a6d6f8-9485-4390-813c-5c910e94a6b0"
      },
      "execution_count": 8,
      "outputs": [
        {
          "output_type": "stream",
          "name": "stdout",
          "text": [
            "2.0.1+cu118\n"
          ]
        }
      ]
    },
    {
      "cell_type": "code",
      "source": [
        "def sigmoid_activation(x):\n",
        "  return 1 / (1 + torch.exp(-x))"
      ],
      "metadata": {
        "id": "xuWLhHoNqkOX"
      },
      "execution_count": 41,
      "outputs": []
    },
    {
      "cell_type": "markdown",
      "source": [
        "Generate data"
      ],
      "metadata": {
        "id": "aXO1wb1RKp80"
      }
    },
    {
      "cell_type": "code",
      "source": [
        "torch.manual_seed(42)"
      ],
      "metadata": {
        "colab": {
          "base_uri": "https://localhost:8080/"
        },
        "id": "pbRYa0u1HwWx",
        "outputId": "ed938e5c-45c2-4999-8ec9-50e674aaad89"
      },
      "execution_count": 6,
      "outputs": [
        {
          "output_type": "execute_result",
          "data": {
            "text/plain": [
              "<torch._C.Generator at 0x7f499b4b1890>"
            ]
          },
          "metadata": {},
          "execution_count": 6
        }
      ]
    },
    {
      "cell_type": "code",
      "source": [
        "feat = torch.rand(1,5)"
      ],
      "metadata": {
        "id": "r_Zgz0BLICXL"
      },
      "execution_count": 7,
      "outputs": []
    },
    {
      "cell_type": "code",
      "source": [
        "weights = torch.rand_like(feat)"
      ],
      "metadata": {
        "id": "0HmZnlujIWcZ"
      },
      "execution_count": 9,
      "outputs": []
    },
    {
      "cell_type": "code",
      "source": [
        "bais = torch.randn(1,1)"
      ],
      "metadata": {
        "id": "QkNFgE7wInkC"
      },
      "execution_count": 13,
      "outputs": []
    },
    {
      "cell_type": "markdown",
      "source": [
        "Perceptron"
      ],
      "metadata": {
        "id": "9o5VV5n0Nq-V"
      }
    },
    {
      "cell_type": "code",
      "source": [
        "sigmoid_activation(torch.sum(feat*weights) + bais)"
      ],
      "metadata": {
        "colab": {
          "base_uri": "https://localhost:8080/"
        },
        "id": "BZKxhUgwNwCU",
        "outputId": "1e47eba2-3fcf-471a-8e58-be4881130c7c"
      },
      "execution_count": 42,
      "outputs": [
        {
          "output_type": "execute_result",
          "data": {
            "text/plain": [
              "tensor([[0.9157]])"
            ]
          },
          "metadata": {},
          "execution_count": 42
        }
      ]
    },
    {
      "cell_type": "markdown",
      "source": [
        "Reshaping weights matrix"
      ],
      "metadata": {
        "id": "XnRhIf3aRb83"
      }
    },
    {
      "cell_type": "code",
      "source": [
        "sigmoid_activation(torch.mm(feat, weights.view(5,1)) + bais)"
      ],
      "metadata": {
        "colab": {
          "base_uri": "https://localhost:8080/"
        },
        "id": "vaFdtuuKRU5L",
        "outputId": "de5c2023-e0fc-4a8d-f053-69f0b690ad3a"
      },
      "execution_count": 43,
      "outputs": [
        {
          "output_type": "execute_result",
          "data": {
            "text/plain": [
              "tensor([[0.9157]])"
            ]
          },
          "metadata": {},
          "execution_count": 43
        }
      ]
    },
    {
      "cell_type": "markdown",
      "source": [
        "# Multiple layer neural network"
      ],
      "metadata": {
        "id": "9uI4ZOdATJs_"
      }
    },
    {
      "cell_type": "code",
      "source": [
        "# Define shape of NN\n",
        "n_input = feat.shape[1]\n",
        "n_hidden = 2\n",
        "n_output = 1"
      ],
      "metadata": {
        "id": "TVoxQ6AlRZ0W"
      },
      "execution_count": 45,
      "outputs": []
    },
    {
      "cell_type": "code",
      "source": [
        "# Weight from input to hidden layer - random numbers from a normal distribution\n",
        "w1 = torch.randn(n_input, n_hidden)\n",
        "w1"
      ],
      "metadata": {
        "colab": {
          "base_uri": "https://localhost:8080/"
        },
        "id": "IckBrDYhTyf3",
        "outputId": "109049ca-591f-4cf8-afd4-d8cba2043ab4"
      },
      "execution_count": 47,
      "outputs": [
        {
          "output_type": "execute_result",
          "data": {
            "text/plain": [
              "tensor([[-0.4220, -1.3323],\n",
              "        [-0.3639,  0.1513],\n",
              "        [-0.3514, -0.7906],\n",
              "        [-0.0915,  0.2352],\n",
              "        [ 2.2440,  0.5817]])"
            ]
          },
          "metadata": {},
          "execution_count": 47
        }
      ]
    },
    {
      "cell_type": "code",
      "source": [
        "# Weight from hidden to output layer - random numbers from a normal distribution\n",
        "w2 = torch.randn(n_hidden, n_output)\n",
        "w2"
      ],
      "metadata": {
        "colab": {
          "base_uri": "https://localhost:8080/"
        },
        "id": "jBewhPjcVIDY",
        "outputId": "d96f2e4a-122b-4b52-d914-7980faad8864"
      },
      "execution_count": 48,
      "outputs": [
        {
          "output_type": "execute_result",
          "data": {
            "text/plain": [
              "tensor([[0.4528],\n",
              "        [0.6410]])"
            ]
          },
          "metadata": {},
          "execution_count": 48
        }
      ]
    },
    {
      "cell_type": "code",
      "source": [
        "# Bias for hidden and output layers\n",
        "b1 = torch.randn(1,n_hidden)\n",
        "b2 = torch.randn(1,n_output)"
      ],
      "metadata": {
        "id": "EtHgJonQVTIC"
      },
      "execution_count": 49,
      "outputs": []
    },
    {
      "cell_type": "code",
      "source": [
        "# Calculate hidden layer\n",
        "h = sigmoid_activation(torch.mm(feat,w1) + b1)\n",
        "h"
      ],
      "metadata": {
        "colab": {
          "base_uri": "https://localhost:8080/"
        },
        "id": "YBZwMnOfVjyH",
        "outputId": "2b9ce5e0-3ae8-46ae-9646-bf2c972b6773"
      },
      "execution_count": 55,
      "outputs": [
        {
          "output_type": "execute_result",
          "data": {
            "text/plain": [
              "tensor([[0.6150, 0.4182]])"
            ]
          },
          "metadata": {},
          "execution_count": 55
        }
      ]
    },
    {
      "cell_type": "code",
      "source": [
        "# Calculate output layer\n",
        "sigmoid_activation(torch.mm(h,w2) + b2)"
      ],
      "metadata": {
        "colab": {
          "base_uri": "https://localhost:8080/"
        },
        "id": "jbeyZxu3We_l",
        "outputId": "acc2bb03-ea2c-4b0d-eb58-13a600e902c0"
      },
      "execution_count": 105,
      "outputs": [
        {
          "output_type": "execute_result",
          "data": {
            "text/plain": [
              "tensor([[0.6504]])"
            ]
          },
          "metadata": {},
          "execution_count": 105
        }
      ]
    },
    {
      "cell_type": "markdown",
      "source": [
        "# MNIST"
      ],
      "metadata": {
        "id": "flM0sbfRZ6nK"
      }
    },
    {
      "cell_type": "markdown",
      "source": [
        "MNIST dataset consists of 28x28 pixel images of greyscale handwritten digits."
      ],
      "metadata": {
        "id": "e0Yw_7y5aQ25"
      }
    },
    {
      "cell_type": "code",
      "source": [
        "import matplotlib.pyplot as plt"
      ],
      "metadata": {
        "id": "0Pe8LSrVfMy4"
      },
      "execution_count": 103,
      "outputs": []
    },
    {
      "cell_type": "code",
      "source": [
        "from torchvision import datasets, transforms"
      ],
      "metadata": {
        "id": "XnRs9WjVa4CV"
      },
      "execution_count": 57,
      "outputs": []
    },
    {
      "cell_type": "code",
      "source": [
        "# Define a transform to normalize the data\n",
        "transform = transforms.Compose([transforms.ToTensor(),\n",
        "                              transforms.Normalize((0.5,), (0.5,)),\n",
        "                              ])\n",
        "# Download and load the training data\n",
        "trainset = datasets.MNIST('/content/MNIST_data/', download=True, train=True, transform=transform)\n",
        "trainloader = torch.utils.data.DataLoader(trainset, batch_size=64, shuffle=True)"
      ],
      "metadata": {
        "id": "Bxq4GKV_aGGe"
      },
      "execution_count": null,
      "outputs": []
    },
    {
      "cell_type": "code",
      "source": [
        "# Get a batch of training data\n",
        "images, labels = next(iter(trainloader))"
      ],
      "metadata": {
        "id": "gwbGjMf8bbJ7"
      },
      "execution_count": 100,
      "outputs": []
    },
    {
      "cell_type": "code",
      "source": [
        "print(type(images))\n",
        "print(images.shape)\n",
        "print(labels.shape)"
      ],
      "metadata": {
        "colab": {
          "base_uri": "https://localhost:8080/"
        },
        "id": "ubaqPA-HbGGX",
        "outputId": "0040ae9e-b67c-42ae-f604-1183289c2b68"
      },
      "execution_count": 101,
      "outputs": [
        {
          "output_type": "stream",
          "name": "stdout",
          "text": [
            "<class 'torch.Tensor'>\n",
            "torch.Size([64, 1, 28, 28])\n",
            "torch.Size([64])\n"
          ]
        }
      ]
    },
    {
      "cell_type": "code",
      "source": [
        "plt.imshow(images[1].numpy().squeeze(), cmap='Greys_r');"
      ],
      "metadata": {
        "colab": {
          "base_uri": "https://localhost:8080/",
          "height": 430
        },
        "id": "i8-5sKJVezd-",
        "outputId": "98b508e3-d340-408a-9eca-61111b972d0c"
      },
      "execution_count": 104,
      "outputs": [
        {
          "output_type": "display_data",
          "data": {
            "text/plain": [
              "<Figure size 640x480 with 1 Axes>"
            ],
            "image/png": "[encoded data removed]"
          },
          "metadata": {}
        }
      ]
    },
    {
      "cell_type": "code",
      "source": [],
      "metadata": {
        "id": "8nE8PW9kfINF"
      },
      "execution_count": null,
      "outputs": []
    }
  ]
}