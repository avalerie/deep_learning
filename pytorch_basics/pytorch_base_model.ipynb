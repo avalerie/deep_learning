{
  "nbformat": 4,
  "nbformat_minor": 0,
  "metadata": {
    "colab": {
      "provenance": [],
      "gpuType": "T4",
      "authorship_tag": "ABX9TyMmFFc+2SZGslgdxa6mQihf",
      "include_colab_link": true
    },
    "kernelspec": {
      "name": "python3",
      "display_name": "Python 3"
    },
    "language_info": {
      "name": "python"
    },
    "accelerator": "GPU"
  },
  "cells": [
    {
      "cell_type": "markdown",
      "metadata": {
        "id": "view-in-github",
        "colab_type": "text"
      },
      "source": [
        "<a href=\"https://colab.research.google.com/github/whitestones011/deep_learning/blob/master/pytorch_base_model.ipynb\" target=\"_parent\"><img src=\"https://colab.research.google.com/assets/colab-badge.svg\" alt=\"Open In Colab\"/></a>"
      ]
    },
    {
      "cell_type": "code",
      "execution_count": null,
      "metadata": {
        "id": "FXG3LvRbXu93"
      },
      "outputs": [],
      "source": [
        "import torch"
      ]
    },
    {
      "cell_type": "code",
      "source": [
        "torch.__version__"
      ],
      "metadata": {
        "id": "lokUAVwAbeq1"
      },
      "execution_count": null,
      "outputs": []
    },
    {
      "cell_type": "code",
      "source": [
        "!python -V"
      ],
      "metadata": {
        "id": "8MBrRBhJb0Vm"
      },
      "execution_count": null,
      "outputs": []
    },
    {
      "cell_type": "markdown",
      "source": [
        "# Dataset & DataLoader"
      ],
      "metadata": {
        "id": "EhAOXRW2X3wI"
      }
    },
    {
      "cell_type": "markdown",
      "source": [
        "Custom Dataset class should have implementation of `__init__`, `__len__` and `__get_item__` functions."
      ],
      "metadata": {
        "id": "AZLNFXitVZue"
      }
    },
    {
      "cell_type": "code",
      "source": [
        "from dataclasses import dataclass, field\n",
        "\n",
        "import pandas as pd\n",
        "from torch.utils.data import Dataset, DataLoader"
      ],
      "metadata": {
        "id": "wpUrL9ZAgosg"
      },
      "execution_count": null,
      "outputs": []
    },
    {
      "cell_type": "code",
      "source": [
        "@dataclass(order=True)\n",
        "class HousingDataset(Dataset):\n",
        "  path: str\n",
        "  data: pd.DataFrame = field(init=False)\n",
        "\n",
        "  def __post_init__(self):\n",
        "    self.data = pd.read_csv(self.path).to_numpy()\n",
        "\n",
        "  def __len__(self):\n",
        "    \"\"\"\n",
        "    Return dataset size\n",
        "    \"\"\"\n",
        "    return self.data.shape[0]\n",
        "\n",
        "  def __getitem__(self, idx):\n",
        "    \"\"\"\n",
        "    Return features and label for single sample at index idx\n",
        "    \"\"\"\n",
        "    features = self.data[idx,:-1]\n",
        "    label = self.data[idx,-1]\n",
        "    return features, label\n"
      ],
      "metadata": {
        "id": "DBTZx-35gw0M"
      },
      "execution_count": null,
      "outputs": []
    },
    {
      "cell_type": "markdown",
      "source": [
        "Creating instance of HousingDataset class."
      ],
      "metadata": {
        "id": "97X54xGSVION"
      }
    },
    {
      "cell_type": "code",
      "source": [
        "train = HousingDataset('/content/sample_data/california_housing_train.csv')\n",
        "test = HousingDataset('/content/sample_data/california_housing_test.csv')"
      ],
      "metadata": {
        "id": "Ru7Wumf1h0qi"
      },
      "execution_count": null,
      "outputs": []
    },
    {
      "cell_type": "code",
      "source": [
        "train_loader = DataLoader(\n",
        "    train,\n",
        "    batch_size=2,\n",
        "    shuffle=True,\n",
        ")"
      ],
      "metadata": {
        "id": "IinpOEzqV6Rc"
      },
      "execution_count": null,
      "outputs": []
    },
    {
      "cell_type": "code",
      "source": [
        "test_loader = DataLoader(\n",
        "    train,\n",
        "    batch_size=2,\n",
        "    shuffle=True,\n",
        ")"
      ],
      "metadata": {
        "id": "g8-XBYRVouEm"
      },
      "execution_count": null,
      "outputs": []
    },
    {
      "cell_type": "code",
      "source": [
        "# load first batch\n",
        "features, labels = next(iter(train_loader))"
      ],
      "metadata": {
        "id": "uRy5R2-4dc9V"
      },
      "execution_count": null,
      "outputs": []
    },
    {
      "cell_type": "code",
      "source": [
        "features[0]"
      ],
      "metadata": {
        "id": "7TsCLi6YidOf"
      },
      "execution_count": null,
      "outputs": []
    },
    {
      "cell_type": "code",
      "source": [
        "labels.view(-1,1)"
      ],
      "metadata": {
        "id": "9JPNd7ZXg2bs"
      },
      "execution_count": null,
      "outputs": []
    },
    {
      "cell_type": "markdown",
      "source": [
        "# Model"
      ],
      "metadata": {
        "id": "xhd3Czkgalxv"
      }
    },
    {
      "cell_type": "code",
      "source": [
        "import torch.nn as nn\n",
        "import torch.optim as optim"
      ],
      "metadata": {
        "id": "LfrAWXLlamrG"
      },
      "execution_count": null,
      "outputs": []
    },
    {
      "cell_type": "code",
      "source": [
        "class Net(nn.Module):\n",
        "    def __init__(self):\n",
        "        super(Net, self).__init__()\n",
        "        # Define the three linear layers\n",
        "        self.fc1 = nn.Linear(8, 16, dtype=float)\n",
        "        self.fc2 = nn.Linear(16, 8, dtype=float)\n",
        "        self.fc3 = nn.Linear(8, 1, dtype=float)\n",
        "\n",
        "    def forward(self, x):\n",
        "        # Pass x through linear layers adding activations\n",
        "        x = nn.functional.relu(self.fc1(x))\n",
        "        x = nn.functional.relu(self.fc2(x))\n",
        "        x = nn.functional.relu(self.fc3(x))\n",
        "        return x"
      ],
      "metadata": {
        "id": "Fc4m3LHRaoEd"
      },
      "execution_count": null,
      "outputs": []
    },
    {
      "cell_type": "code",
      "source": [
        "model = Net()"
      ],
      "metadata": {
        "id": "72duQPFyflo1"
      },
      "execution_count": null,
      "outputs": []
    },
    {
      "cell_type": "markdown",
      "source": [
        "## Training model\n"
      ],
      "metadata": {
        "id": "xUopFZD0eKUr"
      }
    },
    {
      "cell_type": "code",
      "source": [
        "# Define loss function and optimizer\n",
        "loss_func = nn.MSELoss()\n",
        "optimizer = optim.Adam(model.parameters(), lr=0.01)"
      ],
      "metadata": {
        "id": "g_ur6oshcDIc"
      },
      "execution_count": null,
      "outputs": []
    },
    {
      "cell_type": "code",
      "source": [
        "# Iterate over epochs and training batches\n",
        "for epoch in range(1000):\n",
        "\n",
        "  for features, labels in train_loader:\n",
        "    # Clear gradients\n",
        "    optimizer.zero_grad()\n",
        "\n",
        "    # Forward pass: get model's outputs\n",
        "    outputs = model(features)\n",
        "\n",
        "    # Compute loss\n",
        "    loss = loss_func(outputs, labels.view(-1,1))\n",
        "\n",
        "    # Compute gradients\n",
        "    loss.backward()\n",
        "\n",
        "    # Optimizer's step: update params(weights)\n",
        "    optimizer.step()"
      ],
      "metadata": {
        "id": "Ry88UeD0eHs6"
      },
      "execution_count": null,
      "outputs": []
    },
    {
      "cell_type": "markdown",
      "source": [
        "## Evaluation"
      ],
      "metadata": {
        "id": "vbYYiP1clhMP"
      }
    },
    {
      "cell_type": "code",
      "source": [
        "!pip install torchmetrics"
      ],
      "metadata": {
        "id": "xakw-h_2oOpd"
      },
      "execution_count": null,
      "outputs": []
    },
    {
      "cell_type": "code",
      "source": [
        "from torchmetrics.regression import MeanSquaredError"
      ],
      "metadata": {
        "id": "K11ddWjjhmvH"
      },
      "execution_count": null,
      "outputs": []
    },
    {
      "cell_type": "code",
      "source": [
        "# Set up evaluation metric\n",
        "mse = MeanSquaredError(num_outputs=2)\n",
        "\n",
        "model.eval()\n",
        "with torch.no_grad():\n",
        "    for features, labels in test_loader:\n",
        "        # Get predicted prices for test data batch\n",
        "        outputs = model(features)\n",
        "        mse(outputs, labels.view(-1, 1))\n",
        "\n",
        "# Compute total test MSE\n",
        "test_mse = mse.compute()\n",
        "print(f\"Test MSE: {test_mse}\")"
      ],
      "metadata": {
        "id": "pZ9PBDr-mao5"
      },
      "execution_count": null,
      "outputs": []
    }
  ]
}