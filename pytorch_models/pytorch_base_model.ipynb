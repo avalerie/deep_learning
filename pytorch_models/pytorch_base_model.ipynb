{
 "cells": [
  {
   "cell_type": "markdown",
   "metadata": {
    "colab_type": "text",
    "id": "view-in-github"
   },
   "source": [
    "<a href=\"https://colab.research.google.com/github/whitestones011/deep_learning/blob/master/pytorch_base_model.ipynb\" target=\"_parent\"><img src=\"https://colab.research.google.com/assets/colab-badge.svg\" alt=\"Open In Colab\"/></a>"
   ]
  },
  {
   "cell_type": "code",
   "execution_count": null,
   "metadata": {
    "id": "FXG3LvRbXu93"
   },
   "outputs": [],
   "source": [
    "import torch"
   ]
  },
  {
   "cell_type": "code",
   "execution_count": null,
   "metadata": {
    "id": "lokUAVwAbeq1"
   },
   "outputs": [],
   "source": [
    "torch.__version__"
   ]
  },
  {
   "cell_type": "code",
   "execution_count": null,
   "metadata": {
    "id": "8MBrRBhJb0Vm"
   },
   "outputs": [],
   "source": [
    "!python -V"
   ]
  },
  {
   "cell_type": "markdown",
   "metadata": {
    "id": "EhAOXRW2X3wI"
   },
   "source": [
    "# Dataset & DataLoader"
   ]
  },
  {
   "cell_type": "markdown",
   "metadata": {
    "id": "AZLNFXitVZue"
   },
   "source": [
    "Custom Dataset class should have implementation of `__init__`, `__len__` and `__get_item__` functions."
   ]
  },
  {
   "cell_type": "code",
   "execution_count": null,
   "metadata": {
    "id": "wpUrL9ZAgosg"
   },
   "outputs": [],
   "source": [
    "from dataclasses import dataclass, field\n",
    "\n",
    "import pandas as pd\n",
    "from torch.utils.data import Dataset, DataLoader"
   ]
  },
  {
   "cell_type": "code",
   "execution_count": null,
   "metadata": {
    "id": "DBTZx-35gw0M"
   },
   "outputs": [],
   "source": [
    "@dataclass(order=True)\n",
    "class HousingDataset(Dataset):\n",
    "  path: str\n",
    "  data: pd.DataFrame = field(init=False)\n",
    "\n",
    "  def __post_init__(self):\n",
    "    self.data = pd.read_csv(self.path).to_numpy()\n",
    "\n",
    "  def __len__(self):\n",
    "    \"\"\"\n",
    "    Return dataset size\n",
    "    \"\"\"\n",
    "    return self.data.shape[0]\n",
    "\n",
    "  def __getitem__(self, idx):\n",
    "    \"\"\"\n",
    "    Return features and label for single sample at index idx\n",
    "    \"\"\"\n",
    "    features = self.data[idx,:-1]\n",
    "    label = self.data[idx,-1]\n",
    "    return features, label\n"
   ]
  },
  {
   "cell_type": "markdown",
   "metadata": {
    "id": "97X54xGSVION"
   },
   "source": [
    "Creating instance of HousingDataset class."
   ]
  },
  {
   "cell_type": "code",
   "execution_count": null,
   "metadata": {
    "id": "Ru7Wumf1h0qi"
   },
   "outputs": [],
   "source": [
    "train = HousingDataset('/content/sample_data/california_housing_train.csv')\n",
    "test = HousingDataset('/content/sample_data/california_housing_test.csv')"
   ]
  },
  {
   "cell_type": "code",
   "execution_count": null,
   "metadata": {
    "id": "IinpOEzqV6Rc"
   },
   "outputs": [],
   "source": [
    "train_loader = DataLoader(\n",
    "    train,\n",
    "    batch_size=2,\n",
    "    shuffle=True,\n",
    ")"
   ]
  },
  {
   "cell_type": "code",
   "execution_count": null,
   "metadata": {
    "id": "g8-XBYRVouEm"
   },
   "outputs": [],
   "source": [
    "test_loader = DataLoader(\n",
    "    train,\n",
    "    batch_size=2,\n",
    "    shuffle=True,\n",
    ")"
   ]
  },
  {
   "cell_type": "code",
   "execution_count": null,
   "metadata": {
    "id": "uRy5R2-4dc9V"
   },
   "outputs": [],
   "source": [
    "# load first batch\n",
    "features, labels = next(iter(train_loader))"
   ]
  },
  {
   "cell_type": "code",
   "execution_count": null,
   "metadata": {
    "id": "7TsCLi6YidOf"
   },
   "outputs": [],
   "source": [
    "features[0]"
   ]
  },
  {
   "cell_type": "code",
   "execution_count": null,
   "metadata": {
    "id": "9JPNd7ZXg2bs"
   },
   "outputs": [],
   "source": [
    "labels.view(-1,1)"
   ]
  },
  {
   "cell_type": "markdown",
   "metadata": {
    "id": "xhd3Czkgalxv"
   },
   "source": [
    "# Model"
   ]
  },
  {
   "cell_type": "code",
   "execution_count": null,
   "metadata": {
    "id": "LfrAWXLlamrG"
   },
   "outputs": [],
   "source": [
    "import torch.nn as nn\n",
    "import torch.optim as optim"
   ]
  },
  {
   "cell_type": "code",
   "execution_count": null,
   "metadata": {
    "id": "Fc4m3LHRaoEd"
   },
   "outputs": [],
   "source": [
    "class Net(nn.Module):\n",
    "    def __init__(self):\n",
    "        super(Net, self).__init__()\n",
    "        # Define the three linear layers\n",
    "        self.fc1 = nn.Linear(8, 16, dtype=float)\n",
    "        self.fc2 = nn.Linear(16, 8, dtype=float)\n",
    "        self.fc3 = nn.Linear(8, 1, dtype=float)\n",
    "\n",
    "    def forward(self, x):\n",
    "        # Pass x through linear layers adding activations\n",
    "        x = nn.functional.relu(self.fc1(x))\n",
    "        x = nn.functional.relu(self.fc2(x))\n",
    "        x = nn.functional.relu(self.fc3(x))\n",
    "        return x"
   ]
  },
  {
   "cell_type": "code",
   "execution_count": null,
   "metadata": {
    "id": "72duQPFyflo1"
   },
   "outputs": [],
   "source": [
    "model = Net()"
   ]
  },
  {
   "cell_type": "markdown",
   "metadata": {
    "id": "xUopFZD0eKUr"
   },
   "source": [
    "## Training model\n"
   ]
  },
  {
   "cell_type": "code",
   "execution_count": null,
   "metadata": {
    "id": "g_ur6oshcDIc"
   },
   "outputs": [],
   "source": [
    "# Define loss function and optimizer\n",
    "loss_func = nn.MSELoss()\n",
    "optimizer = optim.Adam(model.parameters(), lr=0.01)"
   ]
  },
  {
   "cell_type": "code",
   "execution_count": null,
   "metadata": {
    "id": "Ry88UeD0eHs6"
   },
   "outputs": [],
   "source": [
    "# Iterate over epochs and training batches\n",
    "for epoch in range(1000):\n",
    "\n",
    "  for features, labels in train_loader:\n",
    "    # Clear gradients\n",
    "    optimizer.zero_grad()\n",
    "\n",
    "    # Forward pass: get model's outputs\n",
    "    outputs = model(features)\n",
    "\n",
    "    # Compute loss\n",
    "    loss = loss_func(outputs, labels.view(-1,1))\n",
    "\n",
    "    # Compute gradients\n",
    "    loss.backward()\n",
    "\n",
    "    # Optimizer's step: update params(weights)\n",
    "    optimizer.step()"
   ]
  },
  {
   "cell_type": "markdown",
   "metadata": {
    "id": "vbYYiP1clhMP"
   },
   "source": [
    "## Evaluation"
   ]
  },
  {
   "cell_type": "code",
   "execution_count": null,
   "metadata": {
    "id": "xakw-h_2oOpd"
   },
   "outputs": [],
   "source": [
    "!pip install torchmetrics"
   ]
  },
  {
   "cell_type": "code",
   "execution_count": null,
   "metadata": {
    "id": "K11ddWjjhmvH"
   },
   "outputs": [],
   "source": [
    "from torchmetrics.regression import MeanSquaredError"
   ]
  },
  {
   "cell_type": "code",
   "execution_count": null,
   "metadata": {
    "id": "pZ9PBDr-mao5"
   },
   "outputs": [],
   "source": [
    "# Set up evaluation metric\n",
    "mse = MeanSquaredError(num_outputs=2)\n",
    "\n",
    "model.eval()\n",
    "with torch.no_grad():\n",
    "    for features, labels in test_loader:\n",
    "        # Get predicted prices for test data batch\n",
    "        outputs = model(features)\n",
    "        mse(outputs, labels.view(-1, 1))\n",
    "\n",
    "# Compute total test MSE\n",
    "test_mse = mse.compute()\n",
    "print(f\"Test MSE: {test_mse}\")"
   ]
  }
 ],
 "metadata": {
  "accelerator": "GPU",
  "colab": {
   "authorship_tag": "ABX9TyMmFFc+2SZGslgdxa6mQihf",
   "gpuType": "T4",
   "include_colab_link": true,
   "provenance": []
  },
  "kernelspec": {
   "display_name": "Python 3 (ipykernel)",
   "language": "python",
   "name": "python3"
  },
  "language_info": {
   "codemirror_mode": {
    "name": "ipython",
    "version": 3
   },
   "file_extension": ".py",
   "mimetype": "text/x-python",
   "name": "python",
   "nbconvert_exporter": "python",
   "pygments_lexer": "ipython3",
   "version": "3.10.11"
  }
 },
 "nbformat": 4,
 "nbformat_minor": 4
}
