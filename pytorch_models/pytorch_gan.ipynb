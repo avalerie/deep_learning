{
 "cells": [
  {
   "cell_type": "markdown",
   "id": "fe358b1b-acce-4150-86d9-48613903c7fb",
   "metadata": {},
   "source": [
    "# GAN"
   ]
  },
  {
   "cell_type": "markdown",
   "id": "4dd7d00c-3af3-4538-853d-5b267c32f1ec",
   "metadata": {},
   "source": [
    "GAN can generate new content that seems original."
   ]
  },
  {
   "cell_type": "markdown",
   "id": "c6ca9c9c-4dd9-4e7d-8e96-b6293ca07873",
   "metadata": {},
   "source": [
    "<img src=\"./img/gan.png\" alt=\"gan.png\" style=\"width: 600px;\"/>\n",
    "\n",
    "A Generative Adversarial Network (GAN) consists of two primary components: \n",
    "\n",
    "* Generator, which creates synthetic text data from noise\n",
    "* Discriminator, which distinguishes between real and generated text data\n",
    "  \n",
    "Noise refers to random changes to real data, such as adding special characters to a word. \n",
    "\n",
    "These components collaborate, with the Generator improving its fakes and the Discriminator enhancing its ability to detect them until the generated text becomes indistinguishable from real text."
   ]
  },
  {
   "cell_type": "markdown",
   "id": "adb714bb-fe0a-4b42-92af-8bca55edeaaa",
   "metadata": {},
   "source": [
    "# GAN"
   ]
  },
  {
   "cell_type": "markdown",
   "id": "1f06dc3c-b5b5-4d71-b14e-255f19518f99",
   "metadata": {},
   "source": [
    "Create a model that generates credible reviews."
   ]
  },
  {
   "cell_type": "code",
   "execution_count": 3,
   "id": "738db0fe-127d-434b-b283-3e6e1cebf0e1",
   "metadata": {},
   "outputs": [],
   "source": [
    "import torch\n",
    "import torch.nn as nn"
   ]
  },
  {
   "cell_type": "code",
   "execution_count": 7,
   "id": "b72bf3e4-a38d-4e14-9090-e634bf49b7df",
   "metadata": {},
   "outputs": [],
   "source": [
    "class Generator(nn.Module):\n",
    "    def __init__(self, seq_length=100):\n",
    "        super().__init__()\n",
    "        self.model = nn.Sequential(\n",
    "            nn.Linear(seq_length, seq_length),\n",
    "            nn.Sigmoid()\n",
    "        )\n",
    "    def forward(self, x):\n",
    "        return self.model(x)\n",
    "\n",
    "class Discriminator(nn.Module):\n",
    "    def __init__(self, seq_length=100):\n",
    "        super().__init__()\n",
    "        self.model = nn.Sequential(\n",
    "            nn.Linear(seq_length, 1),\n",
    "            nn.Sigmoid()\n",
    "        )\n",
    "    def forward(self, x):\n",
    "        return self.model(x)"
   ]
  },
  {
   "cell_type": "markdown",
   "id": "31365688-9f67-4db0-9a97-d4f924ccbabd",
   "metadata": {},
   "source": [
    "Geneartor has a a linear layer that transforms an input into the same dimension, followed by sigmoid function.\n",
    "\n",
    "Discriminator has a linear layer that transforms an input into single value, followed by sigmoid function. \n",
    "\n",
    "The output is the probability that the input data is real."
   ]
  },
  {
   "cell_type": "code",
   "execution_count": 10,
   "id": "66db04ef-4784-4e8f-ac08-df63fddef011",
   "metadata": {},
   "outputs": [],
   "source": [
    "generator = Generator()\n",
    "discriminator = Discriminator()"
   ]
  },
  {
   "cell_type": "code",
   "execution_count": 12,
   "id": "1fbf42ba-5a23-436e-8b90-9cc0404d5c7e",
   "metadata": {},
   "outputs": [],
   "source": [
    "loss_function = nn.BCELoss()\n",
    "\n",
    "optim_gen = torch.optim.Adam(generator.parameters(), lr=0.001)\n",
    "optim_dis = torch.optim.Adam(discriminator.parameters(), lr=0.001)"
   ]
  },
  {
   "cell_type": "markdown",
   "id": "c29f8a90-e73e-48bf-99db-a91188100ea5",
   "metadata": {},
   "source": [
    "## Training Discriminator\n",
    "\n",
    "In training loop we generate batches of real data and random noise for Generator to create a fake data.\n",
    "\n",
    "We obtain predictions from the Discrimator for real and fake data, using the detach function to prevent gradient tracking.\n",
    "\n",
    "Discriminator loss is calculated using torch-dot-ones_like and torch-dot-zeros_like to match the expected real and fake labels. \n",
    "\n",
    "We reset the gradients in the Discriminator's optimizer with zero_grad, perform backpropagation to calculate gradients, and update the Discriminator's parameters."
   ]
  },
  {
   "cell_type": "markdown",
   "id": "d4f5447d-6f35-4bff-b673-ab43c10b4adb",
   "metadata": {},
   "source": [
    "## Training Generator\n",
    "\n",
    "We calculate the Generator's loss based on how well it fooled the Discriminator. \n",
    "\n",
    "The loss is determined by the difference between the Discriminator's predictions on fake data and an array of ones. \n",
    "\n",
    "We then reset the gradients in the Generator's optimizer, perform backpropagation to calculate gradients, and update the Generator's parameters. "
   ]
  },
  {
   "cell_type": "code",
   "execution_count": null,
   "id": "b3f51fb2-9416-4387-8bdc-4fe943d1d400",
   "metadata": {},
   "outputs": [],
   "source": [
    "# training loop\n",
    "seq_length = 100\n",
    "for epoch in range(100):\n",
    "    for data in dataloader:\n",
    "        real_data = data.unsqueeze(0)\n",
    "        \n",
    "        noise = torch.rand((1, seq_length))\n",
    "        fake = generator(noise)\n",
    "\n",
    "        # Training Discriminator\n",
    "        \n",
    "        disc_real = discriminator(real_data)\n",
    "        disc_fake = discriminator(fake.detach())\n",
    "\n",
    "        loss_disc = loss_function(disc_real, torch.ones_like(disc_real)) + loss_function(disc_fake, torch.zeros_like(disc_fake))\n",
    "        \n",
    "        optim_dis.zero_grad()\n",
    "        loss_disc.backward()\n",
    "        optim_dis.step()\n",
    "\n",
    "        # Training Generator\n",
    "        disc_fake = discriminator(fake)\n",
    "        \n",
    "        loss_gen = loss_function(disc_fake, torch.ones_like(disc_fake))\n",
    "        \n",
    "        optim_gen.zero_grad()\n",
    "        loss_gen.backward()\n",
    "        optim_gen.step()\n",
    "\n",
    "    if (epoch+1) %10 == 0:\n",
    "        print(f'epoch {epoch} gen loss: {loss_gen.item()} , disc loss: {loss_disc.item()})"
   ]
  },
  {
   "cell_type": "code",
   "execution_count": null,
   "id": "77287a13-678f-46c1-aa19-d4486609fb96",
   "metadata": {},
   "outputs": [],
   "source": []
  }
 ],
 "metadata": {
  "kernelspec": {
   "display_name": "Python 3 (ipykernel)",
   "language": "python",
   "name": "python3"
  },
  "language_info": {
   "codemirror_mode": {
    "name": "ipython",
    "version": 3
   },
   "file_extension": ".py",
   "mimetype": "text/x-python",
   "name": "python",
   "nbconvert_exporter": "python",
   "pygments_lexer": "ipython3",
   "version": "3.10.11"
  }
 },
 "nbformat": 4,
 "nbformat_minor": 5
}
