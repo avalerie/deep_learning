{
 "cells": [
  {
   "cell_type": "markdown",
   "id": "0e48138d-ff97-42d8-8788-22a3fbc673bd",
   "metadata": {},
   "source": [
    "# Transfer learning with BERT\n",
    "\n",
    "<img src=\"./img/transfer_learning.png\" alt=\"transfer_learning\" style=\"width: 600px;\"/>\n",
    "\n",
    "Transfer learning is the reuse of a pre-trained model on a new problem.\n",
    "\n",
    "Transfer learning is a general paradigm about leveraging knowledge gained in one domain to improve performance in another related domain. \n",
    "\n",
    "It could be achieved not only by fine-tuning LLM but with:\n",
    "\n",
    "* Zero-shot learning - model cannot look at examples from traget class during training\n",
    "* One-shot learning - exposing a model to one or\n",
    "* k-Shot learing - a few specific examples only is known as one-shot and few-shot training.\n",
    "\n",
    "\n",
    "Below, an example of transfer learning with LLM.\n",
    "\n",
    "**BERT**(Bidirectional Encoder Representations from Transformers) is trained for language modeling. \n",
    "\n",
    "It contains multiple layers of transformers and is pre-trained on large texts. We will tune it to work with sentiment analysis. "
   ]
  },
  {
   "cell_type": "code",
   "execution_count": 1,
   "id": "0fa834d9-1a98-412f-888e-0eaf06864875",
   "metadata": {},
   "outputs": [],
   "source": [
    "import torch\n",
    "from transformers import BertTokenizer, BertForSequenceClassification\n",
    "from datasets import load_dataset"
   ]
  },
  {
   "cell_type": "code",
   "execution_count": 2,
   "id": "d4d8334f-89d9-481e-bdeb-ff422d5b726c",
   "metadata": {},
   "outputs": [
    {
     "name": "stderr",
     "output_type": "stream",
     "text": [
      "Some weights of BertForSequenceClassification were not initialized from the model checkpoint at bert-base-uncased and are newly initialized: ['classifier.bias', 'classifier.weight']\n",
      "You should probably TRAIN this model on a down-stream task to be able to use it for predictions and inference.\n"
     ]
    }
   ],
   "source": [
    "model_name = 'bert-base-uncased'\n",
    "tokenizer = BertTokenizer.from_pretrained(model_name)\n",
    "model = BertForSequenceClassification.from_pretrained(model_name, num_labels=2)"
   ]
  },
  {
   "cell_type": "code",
   "execution_count": 11,
   "id": "d5d37c2c-2d17-4e0b-8671-c83fde8a8d4e",
   "metadata": {},
   "outputs": [],
   "source": [
    "sample_texts = [\n",
    "    'I love this!',\n",
    "    'This is terrible.',\n",
    "    'Amazing experience!',\n",
    "    'Not my cup of tea.'\n",
    "]\n",
    "\n",
    "labels = [1, 0, 1, 0]"
   ]
  },
  {
   "cell_type": "code",
   "execution_count": 49,
   "id": "19750dde-10cb-4e88-9b31-01dc6d4499b8",
   "metadata": {},
   "outputs": [],
   "source": [
    "inputs = tokenizer(sample_texts, padding=True, truncation=True, return_tensors='pt', max_length=32)"
   ]
  },
  {
   "cell_type": "code",
   "execution_count": 50,
   "id": "999a0c7f-9655-461e-b984-33e72647e282",
   "metadata": {},
   "outputs": [],
   "source": [
    "inputs['labels'] = torch.tensor(labels)"
   ]
  },
  {
   "cell_type": "code",
   "execution_count": 51,
   "id": "ea41bb57-35bf-4ea7-8d22-df617b6b59d7",
   "metadata": {},
   "outputs": [],
   "source": [
    "optimizer = torch.optim.AdamW(model.parameters(), lr=0.00001)"
   ]
  },
  {
   "cell_type": "code",
   "execution_count": 52,
   "id": "d760f0e0-1ad4-485d-b352-4b7ad71a0c2f",
   "metadata": {},
   "outputs": [],
   "source": [
    "_ = model.train()"
   ]
  },
  {
   "cell_type": "code",
   "execution_count": 57,
   "id": "b3e90135-ad7e-4a4c-ab8d-359ff385d846",
   "metadata": {},
   "outputs": [
    {
     "name": "stdout",
     "output_type": "stream",
     "text": [
      "Epoch: 1, Loss: 0.44676530361175537\n",
      "Epoch: 2, Loss: 0.4095667004585266\n"
     ]
    }
   ],
   "source": [
    "# training\n",
    "for epoch in range(2):\n",
    "    outputs = model(**inputs)\n",
    "    loss = outputs.loss\n",
    "    loss.backward()\n",
    "    optimizer.step()\n",
    "    optimizer.zero_grad()\n",
    "    print(f\"Epoch: {epoch+1}, Loss: {loss.item()}\")"
   ]
  },
  {
   "cell_type": "code",
   "execution_count": 60,
   "id": "aaad79bc-c214-43ba-b08c-53c7cafab1a8",
   "metadata": {},
   "outputs": [
    {
     "data": {
      "text/plain": [
       "1"
      ]
     },
     "execution_count": 60,
     "metadata": {},
     "output_type": "execute_result"
    }
   ],
   "source": [
    "# evaluating\n",
    "text = text = \"I had an nice day!\"\n",
    "input_eval = tokenizer(text, padding=True, truncation=True, return_tensors='pt', max_length=32)\n",
    "outputs_eval = model(**input_eval)\n",
    "predictions = torch.nn.functional.softmax(outputs_eval.logits, dim=-1)\n",
    "predicted_label = 1 if torch.argmax(predictions) > 0 else 0\n",
    "predicted_label"
   ]
  },
  {
   "cell_type": "markdown",
   "id": "b9e2d725-9477-4388-b9ce-32cd8f4c1d03",
   "metadata": {},
   "source": [
    "# Fine-tunning pretrained BERT"
   ]
  },
  {
   "cell_type": "markdown",
   "id": "25be06cd-9e7e-4750-93d0-6869a6b0a67f",
   "metadata": {},
   "source": [
    "Fine-tuning involves taking a pre-trained model and re-training it to solve a particular downstream task with domain-specific data. The goal is to improve its performance for that task."
   ]
  },
  {
   "cell_type": "code",
   "execution_count": null,
   "id": "6d11f6d5-f140-4ad7-9c31-072e2e40c882",
   "metadata": {},
   "outputs": [],
   "source": [
    "data = load_dataset('imdb')\n",
    "\n",
    "def tokenize_func(sample_text):\n",
    "    return tokenizer(sample_text[\"text\"], padding=\"max_length\", truncation=True)\n",
    "    \n",
    "tokenized_data = data.map(tokenize_func, batched=True)"
   ]
  },
  {
   "cell_type": "code",
   "execution_count": 14,
   "id": "b6eccaf7-70f0-4548-80f5-f54ff2192038",
   "metadata": {},
   "outputs": [],
   "source": [
    "from transformers import Trainer, TrainingArguments"
   ]
  },
  {
   "cell_type": "code",
   "execution_count": null,
   "id": "e41f08d0-df99-440e-ba19-c8e858bdb373",
   "metadata": {},
   "outputs": [],
   "source": [
    "training_args = TrainingArguments(\n",
    "    output_dir='./finetunned_model',\n",
    "    use_cpu=True,\n",
    "    per_device_train_batch_size=8,\n",
    "    num_train_epochs=5,\n",
    "    evaluation_strategy=\"steps\",\n",
    "    eval_steps=500,\n",
    "    save_steps=500,\n",
    "    logging_dir=\"./logs\",\n",
    ")\n",
    "trainer =  Trainer(\n",
    "    model=model,\n",
    "    args=training_args,\n",
    "    train_dataset=tokenized_dataset[\"train\"],\n",
    "    eval_dataset=tokenized_dataset[\"test\"],\n",
    ")"
   ]
  },
  {
   "cell_type": "code",
   "execution_count": null,
   "id": "2979cd63-dc65-409f-ab91-2f7e91c49b5d",
   "metadata": {},
   "outputs": [],
   "source": [
    "trainer.train()"
   ]
  },
  {
   "cell_type": "code",
   "execution_count": null,
   "id": "14f7ff3b-77c5-490b-afce-78c7872009f7",
   "metadata": {},
   "outputs": [],
   "source": [
    "tokenized_sample = tokenizer('Probably my all-time favorite movie, a story of selflessness, sacrifice and dedication')"
   ]
  },
  {
   "cell_type": "code",
   "execution_count": null,
   "id": "c72d8763-217f-41b1-9864-c81b72707834",
   "metadata": {},
   "outputs": [],
   "source": [
    "output = model(**tokenized_sample)\n",
    "predicted_label = torch.argmax(output.logits, dim=1).item()"
   ]
  },
  {
   "cell_type": "code",
   "execution_count": null,
   "id": "8146e4d3-6e66-4d78-aab6-bedf5e5ba69a",
   "metadata": {},
   "outputs": [],
   "source": [
    "# save model and tokenizer\n",
    "model.save_pretrained('./finetunned_model')\n",
    "tokenizer.save_pretrained('./finetunned_model')"
   ]
  }
 ],
 "metadata": {
  "kernelspec": {
   "display_name": "Python 3 (ipykernel)",
   "language": "python",
   "name": "python3"
  },
  "language_info": {
   "codemirror_mode": {
    "name": "ipython",
    "version": 3
   },
   "file_extension": ".py",
   "mimetype": "text/x-python",
   "name": "python",
   "nbconvert_exporter": "python",
   "pygments_lexer": "ipython3",
   "version": "3.10.11"
  }
 },
 "nbformat": 4,
 "nbformat_minor": 5
}
