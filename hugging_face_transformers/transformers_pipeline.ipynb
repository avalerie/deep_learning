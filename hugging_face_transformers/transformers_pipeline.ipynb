{
 "cells": [
  {
   "cell_type": "markdown",
   "id": "d14699e7-e16a-4476-9344-580001e698e7",
   "metadata": {},
   "source": [
    "# Hugging Face LLM\n",
    "\n",
    "**Language tasks** overview:\n",
    "\n",
    "* Language generation:\n",
    "  * Text generation\n",
    "  * Code generation\n",
    "\n",
    "and\n",
    "\n",
    "* Language understanding:\n",
    "  * Text classification & Sentiment Analysis\n",
    "  * Text summarization\n",
    "  * Question-answering\n",
    "  * Transalation\n",
    "  * Intent recognition\n",
    "  * Named Entity recognition"
   ]
  },
  {
   "cell_type": "code",
   "execution_count": 1,
   "id": "5d663e3a-b96a-4fc5-abe2-3cd1cd7f30bf",
   "metadata": {},
   "outputs": [],
   "source": [
    "from transformers import pipeline"
   ]
  },
  {
   "cell_type": "markdown",
   "id": "8b10d7d8-4013-42bf-be75-f33ea413c977",
   "metadata": {},
   "source": [
    "Pipeline tasks:\n",
    "\n",
    "'audio-classification', 'automatic-speech-recognition', 'conversational', 'depth-estimation', 'document-question-answering', 'feature-extraction', 'fill-mask', 'image-classification', 'image-segmentation', 'image-to-image', 'image-to-text', 'mask-generation', 'ner', 'object-detection', 'question-answering', 'sentiment-analysis', 'summarization', 'table-question-answering', 'text-classification', 'text-generation', 'text-to-audio', 'text-to-speech', 'text2text-generation', 'token-classification', 'translation', 'video-classification', 'visual-question-answering', 'vqa', 'zero-shot-audio-classification', 'zero-shot-classification', 'zero-shot-image-classification', 'zero-shot-object-detection', 'translation_XX_to_YY'"
   ]
  },
  {
   "cell_type": "markdown",
   "id": "07cba63b-7f48-42a4-83a9-c6a29bf846de",
   "metadata": {},
   "source": [
    "## Sentiment classification"
   ]
  },
  {
   "cell_type": "code",
   "execution_count": 9,
   "id": "7c8da10c-a1ad-4eba-bd56-a20dc8106697",
   "metadata": {},
   "outputs": [],
   "source": [
    "classifier = pipeline('sentiment-analysis', model='distilbert/distilbert-base-uncased-finetuned-sst-2-english')\n",
    "outputs = classifier('Pricing is fair and transparent - definitely value for money.')"
   ]
  },
  {
   "cell_type": "code",
   "execution_count": 10,
   "id": "46a9a754-d183-4199-af3e-ab8ea308568d",
   "metadata": {},
   "outputs": [
    {
     "data": {
      "text/plain": [
       "[{'label': 'POSITIVE', 'score': 0.9879118204116821}]"
      ]
     },
     "execution_count": 10,
     "metadata": {},
     "output_type": "execute_result"
    }
   ],
   "source": [
    "outputs"
   ]
  },
  {
   "cell_type": "markdown",
   "id": "6fd503d6-4954-4758-9f3a-6c15af39f62d",
   "metadata": {},
   "source": [
    "## Text generation"
   ]
  },
  {
   "cell_type": "code",
   "execution_count": 14,
   "id": "117d5286-ba2c-4f49-8eea-819985e0ca4b",
   "metadata": {},
   "outputs": [],
   "source": [
    "generator = pipeline('text-generation', model='openai-community/gpt2')"
   ]
  },
  {
   "cell_type": "code",
   "execution_count": null,
   "id": "270ba4b3-e038-409c-9984-42dca6129a69",
   "metadata": {},
   "outputs": [],
   "source": [
    "prompt = 'Building future'\n",
    "output = generator(prompt, max_length=50)"
   ]
  },
  {
   "cell_type": "code",
   "execution_count": 26,
   "id": "10a3f4a7-0848-435b-a214-49ef852c6a93",
   "metadata": {},
   "outputs": [
    {
     "name": "stdout",
     "output_type": "stream",
     "text": [
      "Building future: A group of researchers at the University of Texas at Austin are looking into the best way to build a bridge using nanosensors that bend to create a wall that holds cells in place. One goal is to create thin, flexible steel\n"
     ]
    }
   ],
   "source": [
    "print(output[0].get('generated_text'))"
   ]
  },
  {
   "cell_type": "markdown",
   "id": "c9f93ba5-ed98-4ad1-9eee-d736327aada2",
   "metadata": {},
   "source": [
    "## Text summarization"
   ]
  },
  {
   "cell_type": "code",
   "execution_count": null,
   "id": "e368812f-d980-4860-b016-6a51825cea64",
   "metadata": {},
   "outputs": [],
   "source": [
    "generator_sum = pipeline('summarization', model='facebook/bart-large-cnn')"
   ]
  },
  {
   "cell_type": "code",
   "execution_count": 36,
   "id": "60642ece-68bc-4ff6-9f02-a948d98e64d1",
   "metadata": {},
   "outputs": [],
   "source": [
    "text = \"\"\"\n",
    "Alice opened the door and found that it led into a small passage, not much larger than a rat-hole: \n",
    "she knelt down and looked along the passage into the loveliest garden you ever saw. \n",
    "How she longed to get out of that dark hall, and wander about among those beds of bright flowers and those cool fountains, \n",
    "but she could not even get her head though the doorway; `and even if my head would go through,' thought poor Alice,\n",
    "`it would be of very little use without my shoulders. Oh, how I wish I could shut up like a telescope! \n",
    "I think I could, if I only know how to begin.' For, you see, so many out-of-the-way things had happened lately, \n",
    "that Alice had begun to think that very few things indeed were really impossible.\n",
    "\"\"\"\n",
    "output = generator_sum(text, max_length=100, clean_up_tokenization_spaces=True)"
   ]
  },
  {
   "cell_type": "code",
   "execution_count": 39,
   "id": "c111fea3-732f-41ac-aba8-c17ff561d7e5",
   "metadata": {},
   "outputs": [
    {
     "name": "stdout",
     "output_type": "stream",
     "text": [
      "Alice opened the door and found that it led into a small passage, not much larger than a rat-hole. She knelt down and looked along the passage into the loveliest garden you ever saw. But she could not even get her head though the doorway.\n"
     ]
    }
   ],
   "source": [
    "print(output[0].get('summary_text'))"
   ]
  },
  {
   "cell_type": "markdown",
   "id": "74ebefd1-e54a-4c4a-8a8f-3d363e87ca77",
   "metadata": {},
   "source": [
    "## Question-answering"
   ]
  },
  {
   "cell_type": "code",
   "execution_count": null,
   "id": "18bc5894-0ab1-4261-81b8-f6b2cc41336e",
   "metadata": {},
   "outputs": [],
   "source": [
    "generator_qna = pipeline('question-answering', model='distilbert/distilbert-base-cased-distilled-squad')"
   ]
  },
  {
   "cell_type": "code",
   "execution_count": 54,
   "id": "da430c6b-3862-49f4-bba9-48359399b8a7",
   "metadata": {},
   "outputs": [],
   "source": [
    "context = \"\"\"\n",
    "In the ten years up  to the start of the financial crisis, house prices tripled. \n",
    "Many people think this is because there were not enough houses around, but that is only part of the picture.\n",
    "House prices rise much faster than wages, which means that houses become less and less affordable. \n",
    "Anyone who didn’t already own a house before the bubble started growing ends up giving up more and more of their \n",
    "salary simply to pay for a place to live. \n",
    "And it’s not just house buyers who are affected: pretty soon rents go up too, including in social housing.\n",
    "This increase in prices led to a massive increase in the amount of money that first time buyers spent on mortgage repayments.\n",
    "\"\"\""
   ]
  },
  {
   "cell_type": "code",
   "execution_count": 65,
   "id": "1e0ca96d-3f9d-4ee2-94fe-9995ae17f980",
   "metadata": {},
   "outputs": [],
   "source": [
    "question = 'Why are the house prices so high?'"
   ]
  },
  {
   "cell_type": "code",
   "execution_count": 66,
   "id": "ea2f4273-6faf-4aa9-ba3a-d4c1e3f38182",
   "metadata": {},
   "outputs": [
    {
     "name": "stdout",
     "output_type": "stream",
     "text": [
      "there were not enough houses around\n"
     ]
    }
   ],
   "source": [
    "outputs = generator_qna(question=question, context=context, max_length=200)\n",
    "print(outputs['answer'])"
   ]
  },
  {
   "cell_type": "markdown",
   "id": "09d612fe-0cb0-4ba7-a095-38d4d2998dab",
   "metadata": {},
   "source": [
    "## Translation"
   ]
  },
  {
   "cell_type": "code",
   "execution_count": null,
   "id": "0a021e3c-6b16-48ab-b65f-49403cea5ddd",
   "metadata": {},
   "outputs": [],
   "source": [
    "translator = pipeline('translation_en_to_es', model='Helsinki-NLP/opus-mt-en-es')"
   ]
  },
  {
   "cell_type": "code",
   "execution_count": 71,
   "id": "8d14ef32-4aec-4fea-9772-d2a94d1ac31b",
   "metadata": {},
   "outputs": [],
   "source": [
    "text = \"I can't wait for summer\""
   ]
  },
  {
   "cell_type": "code",
   "execution_count": 72,
   "id": "a885a260-fa05-47f1-a85c-72e55ac8325d",
   "metadata": {},
   "outputs": [],
   "source": [
    "output = translator(text, clean_up_tokenization_spaces=True)"
   ]
  },
  {
   "cell_type": "code",
   "execution_count": 73,
   "id": "404dced0-67f1-4491-b3f7-6353c18d87a0",
   "metadata": {},
   "outputs": [
    {
     "name": "stdout",
     "output_type": "stream",
     "text": [
      "No puedo esperar el verano.\n"
     ]
    }
   ],
   "source": [
    "print(output[0]['translation_text'])"
   ]
  },
  {
   "cell_type": "code",
   "execution_count": null,
   "id": "79a33589-e61f-4096-92ae-f67406594a9b",
   "metadata": {},
   "outputs": [],
   "source": []
  }
 ],
 "metadata": {
  "kernelspec": {
   "display_name": "Python 3 (ipykernel)",
   "language": "python",
   "name": "python3"
  },
  "language_info": {
   "codemirror_mode": {
    "name": "ipython",
    "version": 3
   },
   "file_extension": ".py",
   "mimetype": "text/x-python",
   "name": "python",
   "nbconvert_exporter": "python",
   "pygments_lexer": "ipython3",
   "version": "3.10.11"
  }
 },
 "nbformat": 4,
 "nbformat_minor": 5
}
