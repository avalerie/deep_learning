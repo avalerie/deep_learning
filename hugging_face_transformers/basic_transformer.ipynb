{
 "cells": [
  {
   "cell_type": "markdown",
   "id": "3056e540-bce4-4c83-9b23-705aa76b184a",
   "metadata": {},
   "source": [
    "# Hugging Face Transformers"
   ]
  },
  {
   "cell_type": "markdown",
   "id": "a0af7ca8-ec36-4fe3-9011-dd05c218dea7",
   "metadata": {},
   "source": [
    "There are several transformer components:\n",
    "\n",
    "* Encoder layers process input, such as analyzing a movie review's tone.\n",
    "* Decoder layers reconstruct output, as in English-to-French translation."
   ]
  },
  {
   "cell_type": "markdown",
   "id": "dcd2637d-9b71-41c2-b607-1259be2af81e",
   "metadata": {},
   "source": [
    "## Text generation"
   ]
  },
  {
   "cell_type": "markdown",
   "id": "f1b04e84-4655-404b-9ae5-ffc9dce977a4",
   "metadata": {},
   "source": [
    "Hugging Face pretrained models:\n",
    "\n",
    "* GPT2LMHeadModel is used for text generation\n",
    "\n",
    "* GPT2Tokenizer\n",
    "  * converts text to tokens\n",
    "  * handles subword tokenization"
   ]
  },
  {
   "cell_type": "code",
   "execution_count": 1,
   "id": "c0d491e4-e7d4-426b-af68-d21354305ffc",
   "metadata": {},
   "outputs": [],
   "source": [
    "import torch"
   ]
  },
  {
   "cell_type": "code",
   "execution_count": 2,
   "id": "de8373b2-8fc8-4241-87b6-0b0bba652517",
   "metadata": {},
   "outputs": [],
   "source": [
    "from transformers import GPT2Tokenizer, GPT2LMHeadModel"
   ]
  },
  {
   "cell_type": "code",
   "execution_count": 3,
   "id": "3f89eabc-89be-48a9-af9c-0b3f31940840",
   "metadata": {},
   "outputs": [],
   "source": [
    "tokenizer = GPT2Tokenizer.from_pretrained('gpt2')\n",
    "model = GPT2LMHeadModel.from_pretrained('gpt2')"
   ]
  },
  {
   "cell_type": "code",
   "execution_count": 4,
   "id": "6500f420-965e-4da3-8b09-e7b9e1d8ef6f",
   "metadata": {},
   "outputs": [],
   "source": [
    "sample_text = 'The cat sat on the mat'"
   ]
  },
  {
   "cell_type": "code",
   "execution_count": 5,
   "id": "52377b2a-5d66-46cf-a789-a2b3e152a1ff",
   "metadata": {},
   "outputs": [],
   "source": [
    "# flag return_tensors equals 'pt' specifies that we want these tensors in PyTorch format\n",
    "input_ids = tokenizer.encode(sample_text, return_tensors='pt')"
   ]
  },
  {
   "cell_type": "markdown",
   "id": "44a74c45-3873-4bf0-9e35-0bc366ec56b4",
   "metadata": {},
   "source": [
    "Arguments:\n",
    "\n",
    "* temperature - controls the randomness of the output, with lower values reducing randomness\n",
    "* no_repeat_ngram_size parameter - prevents consecutive word repetition in the generated text\n",
    "* pad_token_id is set to the ID of the end-of-sentence (EOS) token, which means the model pads the output with this token if it's shorter than the maximum length of 40 tokens."
   ]
  },
  {
   "cell_type": "code",
   "execution_count": 6,
   "id": "49c87093-32b0-4996-82c7-b678972c5133",
   "metadata": {},
   "outputs": [],
   "source": [
    "output = model.generate(\n",
    "    input_ids, \n",
    "    max_length=40, \n",
    "    temperature=0.7, \n",
    "    no_repeat_ngram_size=2,\n",
    "    pad_token_id=tokenizer.eos_token_id,\n",
    "    do_sample=True\n",
    ")"
   ]
  },
  {
   "cell_type": "code",
   "execution_count": 7,
   "id": "42a028bc-d9fb-46c2-9230-5e6f5bb270a4",
   "metadata": {},
   "outputs": [
    {
     "data": {
      "text/plain": [
       "\"The cat sat on the mat, its legs pulled under the covers and its paws folded back on its knees and held his paws. The cat's eyes went wide, the cat was still breathing heavily,\""
      ]
     },
     "execution_count": 7,
     "metadata": {},
     "output_type": "execute_result"
    }
   ],
   "source": [
    "generated_text = tokenizer.decode(output[0], skip_special_tokens=True)\n",
    "generated_text"
   ]
  },
  {
   "cell_type": "markdown",
   "id": "d5f4be33-2ea9-40d2-948c-89e9057e9041",
   "metadata": {},
   "source": [
    "## Translation\n",
    "\n",
    "`t5-small` is Text-to-Text trasformer model. It supports English, French, Romanian, German."
   ]
  },
  {
   "cell_type": "code",
   "execution_count": 8,
   "id": "f3d941b5-053c-4291-ba25-213185321db7",
   "metadata": {},
   "outputs": [],
   "source": [
    "from transformers import T5Tokenizer, T5ForConditionalGeneration"
   ]
  },
  {
   "cell_type": "code",
   "execution_count": null,
   "id": "818d20cc-748e-41d2-b17a-db061cfcd669",
   "metadata": {},
   "outputs": [],
   "source": [
    "tokenizer = T5Tokenizer.from_pretrained('t5-small')\n",
    "model = T5ForConditionalGeneration.from_pretrained('t5-small')"
   ]
  },
  {
   "cell_type": "code",
   "execution_count": 10,
   "id": "e639ffc0-2e84-467b-8dae-009918d06563",
   "metadata": {},
   "outputs": [],
   "source": [
    "sample_text = 'translate English to French: I love to read books'"
   ]
  },
  {
   "cell_type": "code",
   "execution_count": 11,
   "id": "61f3f1a0-26e3-4026-9591-78dc22ebe848",
   "metadata": {},
   "outputs": [],
   "source": [
    "input_ids = tokenizer.encode(sample_text, return_tensors='pt')"
   ]
  },
  {
   "cell_type": "code",
   "execution_count": 12,
   "id": "622a0ce4-89f5-4e5d-b82a-a5347d59202b",
   "metadata": {},
   "outputs": [],
   "source": [
    "output = model.generate(input_ids, max_length=100)"
   ]
  },
  {
   "cell_type": "code",
   "execution_count": 13,
   "id": "ea6eacdb-71db-4d86-b968-bc8336ffebc7",
   "metadata": {},
   "outputs": [
    {
     "data": {
      "text/plain": [
       "'Je lis des livres'"
      ]
     },
     "execution_count": 13,
     "metadata": {},
     "output_type": "execute_result"
    }
   ],
   "source": [
    "generated_text = tokenizer.decode(output[0], skip_special_tokens=True)\n",
    "generated_text"
   ]
  }
 ],
 "metadata": {
  "kernelspec": {
   "display_name": "Python 3 (ipykernel)",
   "language": "python",
   "name": "python3"
  },
  "language_info": {
   "codemirror_mode": {
    "name": "ipython",
    "version": 3
   },
   "file_extension": ".py",
   "mimetype": "text/x-python",
   "name": "python",
   "nbconvert_exporter": "python",
   "pygments_lexer": "ipython3",
   "version": "3.10.11"
  }
 },
 "nbformat": 4,
 "nbformat_minor": 5
}
